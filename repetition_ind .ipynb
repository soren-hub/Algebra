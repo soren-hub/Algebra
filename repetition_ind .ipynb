{
 "cells": [
  {
   "cell_type": "code",
   "execution_count": 1,
   "id": "completed-assist",
   "metadata": {},
   "outputs": [],
   "source": [
    "from tensors import * \n",
    "#from algebra import *\n",
    "names=[(\"i\",0),(\"i\",1),(\"j\",0),(\"j\",1),(\"z\",0),(\"z\",1),(\"k\",1),(\"k\",0),(\"l\",0),(\"l\",1)]\n",
    "i_0,i_1,j_0,j_1,z_0,z_1,k_1,k_0,l_0,l_1=indexs(names)"
   ]
  },
  {
   "cell_type": "code",
   "execution_count": 2,
   "id": "hearing-surprise",
   "metadata": {},
   "outputs": [],
   "source": [
    "x = Tensor(\"x\",j_1,j_0,i_0)\n",
    "y = Tensor(\"y\",j_0,j_1,i_1)"
   ]
  },
  {
   "cell_type": "code",
   "execution_count": 3,
   "id": "unnecessary-korean",
   "metadata": {
    "scrolled": true
   },
   "outputs": [],
   "source": [
    "#x*2*Scalar(\"y\")*y*(3/2)*Scalar(\"x\")*x*Scalar(\"x\")*1*2"
   ]
  },
  {
   "cell_type": "code",
   "execution_count": 4,
   "id": "dried-trainer",
   "metadata": {},
   "outputs": [],
   "source": [
    "#Scalar(\"x\")+Scalar(\"y\")*Scalar(\"x\")+Scalar(\"y\")+Scalar(\"x\")\n",
    "#e1=x+x*y+y+x\n",
    "#e1"
   ]
  },
  {
   "cell_type": "code",
   "execution_count": 5,
   "id": "optical-findings",
   "metadata": {},
   "outputs": [],
   "source": [
    "#e1"
   ]
  },
  {
   "cell_type": "code",
   "execution_count": 6,
   "id": "following-saudi",
   "metadata": {},
   "outputs": [],
   "source": [
    "e2=Tensor(\"x\",j_1,j_0,i_0)*Tensor(\"x\",j_1,j_0,i_0)*(2*Tensor(\"x\",j_1,j_0))\n",
    "e1=Tensor(\"x\",*(ContractedIndex(\"k\",2), ContractedIndex(\"k\",2),i_0,i_0))"
   ]
  },
  {
   "cell_type": "code",
   "execution_count": 7,
   "id": "african-virus",
   "metadata": {},
   "outputs": [
    {
     "data": {
      "text/plain": [
       "(x(Çb, Çb, _i), x(Çt, Çt, _i))"
      ]
     },
     "execution_count": 7,
     "metadata": {},
     "output_type": "execute_result"
    }
   ],
   "source": [
    "e2.get_args_tensors(others=True)"
   ]
  },
  {
   "cell_type": "code",
   "execution_count": 8,
   "id": "finite-contractor",
   "metadata": {},
   "outputs": [
    {
     "data": {
      "text/plain": [
       "x(Çk, Çk, _i, _i) + 2 x(Çd, Çd) x(Çb, Çb, _i) x(Çt, Çt, _i)"
      ]
     },
     "execution_count": 8,
     "metadata": {},
     "output_type": "execute_result"
    }
   ],
   "source": [
    "PlusTensors(e2 , e1)"
   ]
  },
  {
   "cell_type": "code",
   "execution_count": 12,
   "id": "outside-tuesday",
   "metadata": {
    "scrolled": true
   },
   "outputs": [
    {
     "data": {
      "text/plain": [
       "x(Çk, Çk, _i, _i) + 2 x(Çd, Çd) x(Çb, Çb, _i) x(Çt, Çt, _i)"
      ]
     },
     "execution_count": 12,
     "metadata": {},
     "output_type": "execute_result"
    }
   ],
   "source": [
    "(e1+e2)"
   ]
  },
  {
   "cell_type": "code",
   "execution_count": null,
   "id": "latter-speech",
   "metadata": {},
   "outputs": [],
   "source": []
  },
  {
   "cell_type": "code",
   "execution_count": 13,
   "id": "southeast-month",
   "metadata": {},
   "outputs": [],
   "source": [
    "z= Tensor(\"z\",i_0)\n",
    "w=Tensor(\"w\",i_0)\n",
    "m=Tensor(\"m\",i_0)"
   ]
  },
  {
   "cell_type": "code",
   "execution_count": 14,
   "id": "golden-exhibit",
   "metadata": {
    "scrolled": true
   },
   "outputs": [
    {
     "data": {
      "text/plain": [
       "m_i + w_i + (3 + x) z_i"
      ]
     },
     "execution_count": 14,
     "metadata": {},
     "output_type": "execute_result"
    }
   ],
   "source": [
    "z+m+w+2*z+z*Scalar(\"x\")"
   ]
  },
  {
   "cell_type": "code",
   "execution_count": 15,
   "id": "artificial-fighter",
   "metadata": {},
   "outputs": [
    {
     "data": {
      "text/plain": [
       "3 z_i"
      ]
     },
     "execution_count": 15,
     "metadata": {},
     "output_type": "execute_result"
    }
   ],
   "source": [
    "2*z+z"
   ]
  },
  {
   "cell_type": "code",
   "execution_count": 16,
   "id": "ready-positive",
   "metadata": {},
   "outputs": [
    {
     "data": {
      "text/plain": [
       "4 x x(Çd, Çd, _i)"
      ]
     },
     "execution_count": 16,
     "metadata": {},
     "output_type": "execute_result"
    }
   ],
   "source": [
    "2*2*Scalar(\"x\")*x"
   ]
  },
  {
   "cell_type": "code",
   "execution_count": null,
   "id": "nearby-virginia",
   "metadata": {},
   "outputs": [],
   "source": []
  },
  {
   "cell_type": "code",
   "execution_count": 17,
   "id": "joined-makeup",
   "metadata": {},
   "outputs": [],
   "source": [
    "import algebra"
   ]
  },
  {
   "cell_type": "code",
   "execution_count": 18,
   "id": "charitable-speech",
   "metadata": {},
   "outputs": [
    {
     "data": {
      "text/plain": [
       "6 + x"
      ]
     },
     "execution_count": 18,
     "metadata": {},
     "output_type": "execute_result"
    }
   ],
   "source": [
    "3+(Scalar(\"x\")+3)"
   ]
  },
  {
   "cell_type": "code",
   "execution_count": 19,
   "id": "funky-plaintiff",
   "metadata": {},
   "outputs": [
    {
     "data": {
      "text/plain": [
       "7 x"
      ]
     },
     "execution_count": 19,
     "metadata": {},
     "output_type": "execute_result"
    }
   ],
   "source": [
    "2*Scalar(\"x\")+Scalar(\"x\")+Scalar(\"x\")+3*Scalar(\"x\")"
   ]
  },
  {
   "cell_type": "code",
   "execution_count": 20,
   "id": "three-irrigation",
   "metadata": {
    "scrolled": true
   },
   "outputs": [
    {
     "data": {
      "text/plain": [
       "m_i + w_i + (3 + x) z_i"
      ]
     },
     "execution_count": 20,
     "metadata": {},
     "output_type": "execute_result"
    }
   ],
   "source": [
    "PlusTensors(z,m,w,2*z,Scalar(\"x\")*z)"
   ]
  },
  {
   "cell_type": "code",
   "execution_count": 21,
   "id": "fundamental-vienna",
   "metadata": {},
   "outputs": [
    {
     "data": {
      "text/plain": [
       "m_i + w_i + (3 + x) z_i"
      ]
     },
     "execution_count": 21,
     "metadata": {},
     "output_type": "execute_result"
    }
   ],
   "source": [
    "PlusTensors(m , w , (3 + Scalar(\"x\"))*z)"
   ]
  },
  {
   "cell_type": "code",
   "execution_count": 22,
   "id": "interested-cassette",
   "metadata": {},
   "outputs": [
    {
     "data": {
      "text/plain": [
       "(1, (3 + x) z_i)"
      ]
     },
     "execution_count": 22,
     "metadata": {},
     "output_type": "execute_result"
    }
   ],
   "source": [
    "((3 + Scalar(\"x\"))*z)._separate_exp(((3 + Scalar(\"x\"))*z))"
   ]
  },
  {
   "cell_type": "code",
   "execution_count": null,
   "id": "technological-mattress",
   "metadata": {},
   "outputs": [],
   "source": []
  },
  {
   "cell_type": "code",
   "execution_count": null,
   "id": "prescribed-disney",
   "metadata": {},
   "outputs": [],
   "source": []
  },
  {
   "cell_type": "code",
   "execution_count": null,
   "id": "plain-speaking",
   "metadata": {},
   "outputs": [],
   "source": []
  },
  {
   "cell_type": "code",
   "execution_count": null,
   "id": "quick-desire",
   "metadata": {},
   "outputs": [],
   "source": []
  },
  {
   "cell_type": "code",
   "execution_count": null,
   "id": "criminal-maryland",
   "metadata": {},
   "outputs": [],
   "source": []
  }
 ],
 "metadata": {
  "kernelspec": {
   "display_name": "Python 3",
   "language": "python",
   "name": "python3"
  },
  "language_info": {
   "codemirror_mode": {
    "name": "ipython",
    "version": 3
   },
   "file_extension": ".py",
   "mimetype": "text/x-python",
   "name": "python",
   "nbconvert_exporter": "python",
   "pygments_lexer": "ipython3",
   "version": "3.8.3"
  }
 },
 "nbformat": 4,
 "nbformat_minor": 5
}
