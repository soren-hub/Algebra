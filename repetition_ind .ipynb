{
 "cells": [
  {
   "cell_type": "code",
   "execution_count": 1,
   "id": "completed-assist",
   "metadata": {},
   "outputs": [],
   "source": [
    "from tensors import * \n",
    "#from algebra import *\n",
    "names=[(\"i\",0),(\"i\",1),(\"j\",0),(\"j\",1),(\"z\",0),(\"z\",1),(\"k\",1),(\"k\",0),(\"l\",0),(\"l\",1)]\n",
    "i_0,i_1,j_0,j_1,z_0,z_1,k_1,k_0,l_0,l_1=indexs(names)"
   ]
  },
  {
   "cell_type": "code",
   "execution_count": 2,
   "id": "hearing-surprise",
   "metadata": {},
   "outputs": [],
   "source": [
    "x = Tensor(\"x\",j_1,j_0,i_0)\n",
    "y = Tensor(\"y\",j_0,j_1,i_1)"
   ]
  },
  {
   "cell_type": "code",
   "execution_count": 10,
   "id": "unnecessary-korean",
   "metadata": {
    "scrolled": true
   },
   "outputs": [
    {
     "name": "stdout",
     "output_type": "stream",
     "text": [
      "[2]\n",
      "[y, 2]\n",
      "[y, y(Çe, Çe, Çj), 2, x(Çu, Çu, Çj)]\n",
      "[y, y(Çe, Çe, Çj), 2, x(Çu, Çu, Çj), 1.5]\n",
      "[y, y(Çe, Çe, Çj), 3.0, x(Çu, Çu, Çj), x]\n",
      "[y, y(Çe, Çe, Çj), 3.0, x(Çu, Çu, Çj), x]\n",
      "[y, y(Çe, Çe, Çj), 3.0, x(Çu, Çu, Çj), x, x]\n",
      "[y, y(Çe, Çe, Çj), 1, 3.0, x(Çu, Çu, Çj), x^2]\n",
      "[y, y(Çe, Çe, Çj), 2, 3.0, x(Çu, Çu, Çj), x^2]\n"
     ]
    },
    {
     "data": {
      "text/plain": [
       "6.0*y*x^2*y(Çe, Çe, Çj)*x(Çu, Çu, Çj)*x(Ço, Ço, _i)"
      ]
     },
     "execution_count": 10,
     "metadata": {},
     "output_type": "execute_result"
    }
   ],
   "source": [
    "x*2*Scalar(\"y\")*y*(3/2)*Scalar(\"x\")*x*Scalar(\"x\")*1*2"
   ]
  },
  {
   "cell_type": "code",
   "execution_count": 4,
   "id": "dried-trainer",
   "metadata": {},
   "outputs": [],
   "source": [
    "#Scalar(\"x\")+Scalar(\"y\")*Scalar(\"x\")+Scalar(\"y\")+Scalar(\"x\")\n",
    "#e1=x+x*y+y+x\n",
    "#e1"
   ]
  },
  {
   "cell_type": "code",
   "execution_count": 5,
   "id": "following-saudi",
   "metadata": {},
   "outputs": [
    {
     "name": "stdout",
     "output_type": "stream",
     "text": [
      "[2, x(Ço, Ço)]\n",
      "[2, x(Ço, Ço)]\n"
     ]
    }
   ],
   "source": [
    "e2=Tensor(\"x\",j_1,j_0,i_0)*Tensor(\"x\",j_1,j_0,i_0)*(2*Tensor(\"x\",j_1,j_0))"
   ]
  },
  {
   "cell_type": "code",
   "execution_count": 6,
   "id": "outside-tuesday",
   "metadata": {
    "scrolled": true
   },
   "outputs": [
    {
     "data": {
      "text/plain": [
       "2*x(Ço, Ço)*x(Çj, Çj, _i)*x(Çu, Çu, _i)"
      ]
     },
     "execution_count": 6,
     "metadata": {},
     "output_type": "execute_result"
    }
   ],
   "source": [
    "e2\n",
    "#e2 + Tensor(\"x\",*(ContractedIndex(\"k\",2), ContractedIndex(\"k\",2),i_0,i_0))"
   ]
  },
  {
   "cell_type": "code",
   "execution_count": 7,
   "id": "latter-speech",
   "metadata": {},
   "outputs": [
    {
     "data": {
      "text/plain": [
       "True"
      ]
     },
     "execution_count": 7,
     "metadata": {},
     "output_type": "execute_result"
    }
   ],
   "source": [
    "e2.is_tensor"
   ]
  },
  {
   "cell_type": "code",
   "execution_count": 8,
   "id": "southeast-month",
   "metadata": {},
   "outputs": [],
   "source": [
    "z= Tensor(\"z\",i_0)\n",
    "w=Tensor(\"w\",i_0)\n",
    "m=Tensor(\"m\",i_0)"
   ]
  },
  {
   "cell_type": "code",
   "execution_count": 9,
   "id": "geological-intention",
   "metadata": {
    "scrolled": true
   },
   "outputs": [
    {
     "ename": "TypeError",
     "evalue": "unsupported operand type(s) for *: Tensor and Tensor",
     "output_type": "error",
     "traceback": [
      "\u001b[1;31m---------------------------------------------------------------------------\u001b[0m",
      "\u001b[1;31mTypeError\u001b[0m                                 Traceback (most recent call last)",
      "\u001b[1;32m<ipython-input-9-2fbf5ccdea4f>\u001b[0m in \u001b[0;36m<module>\u001b[1;34m\u001b[0m\n\u001b[1;32m----> 1\u001b[1;33m \u001b[0mz\u001b[0m\u001b[1;33m+\u001b[0m\u001b[0mm\u001b[0m\u001b[1;33m+\u001b[0m\u001b[0mw\u001b[0m\u001b[1;33m+\u001b[0m\u001b[1;36m2\u001b[0m\u001b[1;33m*\u001b[0m\u001b[0mz\u001b[0m\u001b[1;33m+\u001b[0m\u001b[0mz\u001b[0m\u001b[1;33m\u001b[0m\u001b[1;33m\u001b[0m\u001b[0m\n\u001b[0m",
      "\u001b[1;32m~\\Documents\\GitHub\\Algebra\\tensors.py\u001b[0m in \u001b[0;36m__add__\u001b[1;34m(self, other)\u001b[0m\n\u001b[0;32m    356\u001b[0m \u001b[1;33m\u001b[0m\u001b[0m\n\u001b[0;32m    357\u001b[0m         \u001b[1;32melse\u001b[0m\u001b[1;33m:\u001b[0m\u001b[1;33m\u001b[0m\u001b[1;33m\u001b[0m\u001b[0m\n\u001b[1;32m--> 358\u001b[1;33m             raise TypeError(\"unsupported operand type(s) for *: \" +\\\n\u001b[0m\u001b[0;32m    359\u001b[0m                     \u001b[0mtype\u001b[0m\u001b[1;33m(\u001b[0m\u001b[0mself\u001b[0m\u001b[1;33m)\u001b[0m\u001b[1;33m.\u001b[0m\u001b[0m__name__\u001b[0m \u001b[1;33m+\u001b[0m \u001b[1;34m' and '\u001b[0m \u001b[1;33m+\u001b[0m\u001b[0;31m\\\u001b[0m\u001b[1;33m\u001b[0m\u001b[1;33m\u001b[0m\u001b[0m\n\u001b[0;32m    360\u001b[0m                         type(other).__name__)\n",
      "\u001b[1;31mTypeError\u001b[0m: unsupported operand type(s) for *: Tensor and Tensor"
     ]
    }
   ],
   "source": [
    "z+m+w+2*z+z"
   ]
  },
  {
   "cell_type": "code",
   "execution_count": null,
   "id": "artificial-fighter",
   "metadata": {},
   "outputs": [],
   "source": [
    "2*z+z"
   ]
  },
  {
   "cell_type": "code",
   "execution_count": null,
   "id": "ready-positive",
   "metadata": {},
   "outputs": [],
   "source": [
    "MultTensors(Mult(2,Scalar(\"x\")),x)"
   ]
  },
  {
   "cell_type": "code",
   "execution_count": null,
   "id": "rational-advancement",
   "metadata": {},
   "outputs": [],
   "source": []
  },
  {
   "cell_type": "code",
   "execution_count": null,
   "id": "wireless-nerve",
   "metadata": {},
   "outputs": [],
   "source": [
    "import algebra"
   ]
  },
  {
   "cell_type": "code",
   "execution_count": null,
   "id": "warming-recording",
   "metadata": {},
   "outputs": [],
   "source": [
    "3+(Scalar(\"x\")+3)"
   ]
  },
  {
   "cell_type": "code",
   "execution_count": null,
   "id": "unusual-province",
   "metadata": {},
   "outputs": [],
   "source": [
    "2*Scalar(\"x\")+Scalar(\"x\")+Scalar(\"x\")+3*Scalar(\"x\")"
   ]
  },
  {
   "cell_type": "code",
   "execution_count": null,
   "id": "alive-alert",
   "metadata": {},
   "outputs": [],
   "source": [
    "PlusTensors(z,m,w,2*z,Scalar(\"x\")*z)"
   ]
  },
  {
   "cell_type": "code",
   "execution_count": null,
   "id": "polar-sight",
   "metadata": {},
   "outputs": [],
   "source": []
  },
  {
   "cell_type": "code",
   "execution_count": null,
   "id": "dramatic-superior",
   "metadata": {},
   "outputs": [],
   "source": []
  }
 ],
 "metadata": {
  "kernelspec": {
   "display_name": "Python 3",
   "language": "python",
   "name": "python3"
  },
  "language_info": {
   "codemirror_mode": {
    "name": "ipython",
    "version": 3
   },
   "file_extension": ".py",
   "mimetype": "text/x-python",
   "name": "python",
   "nbconvert_exporter": "python",
   "pygments_lexer": "ipython3",
   "version": "3.8.3"
  }
 },
 "nbformat": 4,
 "nbformat_minor": 5
}
