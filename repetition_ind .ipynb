{
 "cells": [
  {
   "cell_type": "code",
   "execution_count": 1,
   "id": "completed-assist",
   "metadata": {},
   "outputs": [],
   "source": [
    "from tensors import * \n",
    "#from algebra import *\n",
    "names=[(\"i\",0),(\"i\",1),(\"j\",0),(\"j\",1),(\"z\",0),(\"z\",1),(\"k\",1),(\"k\",0),(\"l\",0),(\"l\",1)]\n",
    "i_0,i_1,j_0,j_1,z_0,z_1,k_1,k_0,l_0,l_1=indexs(names)"
   ]
  },
  {
   "cell_type": "code",
   "execution_count": 2,
   "id": "hearing-surprise",
   "metadata": {},
   "outputs": [],
   "source": [
    "x = Tensor(\"x\",j_1,j_0,i_0)\n",
    "y = Tensor(\"y\",j_0,j_1,i_1)"
   ]
  },
  {
   "cell_type": "code",
   "execution_count": null,
   "id": "unnecessary-korean",
   "metadata": {},
   "outputs": [],
   "source": []
  },
  {
   "cell_type": "code",
   "execution_count": 3,
   "id": "dried-trainer",
   "metadata": {},
   "outputs": [],
   "source": [
    "#Scalar(\"x\")+Scalar(\"y\")*Scalar(\"x\")+Scalar(\"y\")+Scalar(\"x\")\n",
    "#e1=x+x*y+y+x\n",
    "#e1"
   ]
  },
  {
   "cell_type": "code",
   "execution_count": 4,
   "id": "following-saudi",
   "metadata": {},
   "outputs": [
    {
     "name": "stdout",
     "output_type": "stream",
     "text": [
      "[x(Çq, Çq)] <class 'tensors.MultTensors'> [x(Çm, Çm, _i), x(Çt, Çt, _i), x(Çq, Çq)] args\n"
     ]
    }
   ],
   "source": [
    "e2=Tensor(\"x\",j_1,j_0,i_0)*Tensor(\"x\",j_1,j_0,i_0)*Tensor(\"x\",j_1,j_0)"
   ]
  },
  {
   "cell_type": "code",
   "execution_count": 9,
   "id": "outside-tuesday",
   "metadata": {
    "scrolled": true
   },
   "outputs": [
    {
     "name": "stdout",
     "output_type": "stream",
     "text": [
      "(x(Çq, Çq)*x(Çm, Çm, _i)*x(Çt, Çt, _i), x(Çk, Çk, _i, _i))\n",
      "[x(Çk, Çk, _i, _i), x(Çq, Çq)*x(Çm, Çm, _i)*x(Çt, Çt, _i)] <class 'tensors.PlusTensors'> (x(Çk, Çk, _i, _i), x(Çq, Çq)*x(Çm, Çm, _i)*x(Çt, Çt, _i)) args\n",
      "[1] <class 'tensors.MultTensors'> [1, x(Çk, Çk, _i, _i)] args\n",
      "[x(Çq, Çq), 1] <class 'tensors.MultTensors'> [1, x(Çq, Çq), x(Çm, Çm, _i), x(Çt, Çt, _i)] args\n"
     ]
    },
    {
     "data": {
      "text/plain": [
       "x(Çk, Çk, _i, _i) + x(Çq, Çq)*x(Çm, Çm, _i)*x(Çt, Çt, _i)"
      ]
     },
     "execution_count": 9,
     "metadata": {},
     "output_type": "execute_result"
    }
   ],
   "source": [
    "#e2\n",
    "e2 + Tensor(\"x\",*(ContractedIndex(\"k\",2), ContractedIndex(\"k\",2),i_0,i_0))"
   ]
  },
  {
   "cell_type": "code",
   "execution_count": 10,
   "id": "latter-speech",
   "metadata": {},
   "outputs": [
    {
     "data": {
      "text/plain": [
       "True"
      ]
     },
     "execution_count": 10,
     "metadata": {},
     "output_type": "execute_result"
    }
   ],
   "source": [
    "e2.is_tensor"
   ]
  },
  {
   "cell_type": "code",
   "execution_count": 11,
   "id": "southeast-month",
   "metadata": {},
   "outputs": [],
   "source": [
    "z= Tensor(\"z\",i_0)\n",
    "w=Tensor(\"w\",i_0)\n",
    "m=Tensor(\"m\",i_0)"
   ]
  },
  {
   "cell_type": "code",
   "execution_count": 14,
   "id": "polar-characterization",
   "metadata": {
    "scrolled": true
   },
   "outputs": [
    {
     "name": "stdout",
     "output_type": "stream",
     "text": [
      "(z_i, m_i)\n",
      "[m_i, z_i] <class 'tensors.PlusTensors'> (m_i, z_i) args\n",
      "[1] <class 'tensors.MultTensors'> [1, m_i] args\n",
      "[1] <class 'tensors.MultTensors'> [1, z_i] args\n",
      "<class 'tensors.PlusTensors'> <class 'tensors.Tensor'>\n",
      "(m_i, z_i, w_i)\n",
      "[m_i, w_i, z_i] <class 'tensors.PlusTensors'> (m_i, w_i, z_i) args\n",
      "[1] <class 'tensors.MultTensors'> [1, m_i] args\n",
      "[1] <class 'tensors.MultTensors'> [1, w_i] args\n",
      "[1] <class 'tensors.MultTensors'> [1, z_i] args\n",
      "[2] <class 'tensors.MultTensors'> [2, z_i] args\n",
      "<class 'tensors.PlusTensors'> <class 'tensors.MultTensors'>\n",
      "(m_i, w_i, z_i, 2*z_i)\n",
      "[m_i, w_i, z_i, 2*z_i] <class 'tensors.PlusTensors'> (m_i, w_i, z_i, 2*z_i) args\n",
      "[1] <class 'tensors.MultTensors'> [1, m_i] args\n",
      "[1] <class 'tensors.MultTensors'> [1, w_i] args\n",
      "[1] <class 'tensors.MultTensors'> [1, z_i] args\n",
      "[2] <class 'tensors.MultTensors'> [2, z_i] args\n",
      "<class 'tensors.PlusTensors'> <class 'tensors.Tensor'>\n",
      "(m_i, w_i, z_i, 2*z_i, z_i)\n",
      "[m_i, w_i, z_i, 2*z_i, z_i] <class 'tensors.PlusTensors'> (m_i, w_i, z_i, 2*z_i, z_i) args\n",
      "[1] <class 'tensors.MultTensors'> [1, m_i] args\n",
      "[1] <class 'tensors.MultTensors'> [1, w_i] args\n",
      "[1] <class 'tensors.MultTensors'> [1, z_i] args\n",
      "[1, 2] <class 'algebra.Plus'> (2, 1) args\n",
      "[1, 1] <class 'algebra.Mult'> (1, 1) args\n",
      "1 1 2 1 info\n",
      "[1, 2] <class 'algebra.Mult'> (2, 1) args\n",
      "2 1 3 z_i info\n",
      "[1, 2] <class 'algebra.Plus'> (2, 1) args\n",
      "[1, 1] <class 'algebra.Mult'> (1, 1) args\n",
      "1 1 2 1 info\n",
      "[1, 2] <class 'algebra.Mult'> (2, 1) args\n",
      "[3] <class 'tensors.MultTensors'> [3, z_i] args\n"
     ]
    },
    {
     "data": {
      "text/plain": [
       "m_i + w_i + z_i + 3*z_i"
      ]
     },
     "execution_count": 14,
     "metadata": {},
     "output_type": "execute_result"
    }
   ],
   "source": [
    "z+m+w+2*z+z"
   ]
  },
  {
   "cell_type": "code",
   "execution_count": null,
   "id": "artificial-fighter",
   "metadata": {},
   "outputs": [],
   "source": [
    "2*z+z"
   ]
  },
  {
   "cell_type": "code",
   "execution_count": null,
   "id": "ready-positive",
   "metadata": {},
   "outputs": [],
   "source": []
  },
  {
   "cell_type": "code",
   "execution_count": null,
   "id": "static-ethernet",
   "metadata": {},
   "outputs": [],
   "source": []
  },
  {
   "cell_type": "code",
   "execution_count": null,
   "id": "still-increase",
   "metadata": {},
   "outputs": [],
   "source": [
    "import algebra"
   ]
  },
  {
   "cell_type": "code",
   "execution_count": null,
   "id": "identical-afghanistan",
   "metadata": {},
   "outputs": [],
   "source": [
    "3+(Scalar(\"x\")+3)"
   ]
  },
  {
   "cell_type": "code",
   "execution_count": null,
   "id": "younger-corporation",
   "metadata": {},
   "outputs": [],
   "source": []
  }
 ],
 "metadata": {
  "kernelspec": {
   "display_name": "Python 3",
   "language": "python",
   "name": "python3"
  },
  "language_info": {
   "codemirror_mode": {
    "name": "ipython",
    "version": 3
   },
   "file_extension": ".py",
   "mimetype": "text/x-python",
   "name": "python",
   "nbconvert_exporter": "python",
   "pygments_lexer": "ipython3",
   "version": "3.8.3"
  }
 },
 "nbformat": 4,
 "nbformat_minor": 5
}
