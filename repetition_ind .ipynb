{
 "cells": [
  {
   "cell_type": "code",
   "execution_count": 1,
   "id": "completed-assist",
   "metadata": {},
   "outputs": [],
   "source": [
    "from tensors import * \n",
    "#from algebra import *\n",
    "names=[(\"i\",0),(\"i\",1),(\"j\",0),(\"j\",1),(\"z\",0),(\"z\",1),(\"k\",1),(\"k\",0),(\"l\",0),(\"l\",1)]\n",
    "i_0,i_1,j_0,j_1,z_0,z_1,k_1,k_0,l_0,l_1=indexs(names)"
   ]
  },
  {
   "cell_type": "code",
   "execution_count": 2,
   "id": "hearing-surprise",
   "metadata": {},
   "outputs": [],
   "source": [
    "x = Tensor(\"x\",j_1,j_0,i_0)\n",
    "y = Tensor(\"y\",j_0,j_1,i_1)"
   ]
  },
  {
   "cell_type": "code",
   "execution_count": 3,
   "id": "unnecessary-korean",
   "metadata": {
    "scrolled": true
   },
   "outputs": [
    {
     "data": {
      "text/plain": [
       "6.0 y x^2 x(Çp, Çp, Çn) y(Çb, Çb, Çn) x(Çm, Çm, _i)"
      ]
     },
     "execution_count": 3,
     "metadata": {},
     "output_type": "execute_result"
    }
   ],
   "source": [
    "x*2*Scalar(\"y\")*y*(3/2)*Scalar(\"x\")*x*Scalar(\"x\")*1*2"
   ]
  },
  {
   "cell_type": "code",
   "execution_count": 4,
   "id": "dried-trainer",
   "metadata": {},
   "outputs": [],
   "source": [
    "#Scalar(\"x\")+Scalar(\"y\")*Scalar(\"x\")+Scalar(\"y\")+Scalar(\"x\")\n",
    "#e1=x+x*y+y+x\n",
    "#e1"
   ]
  },
  {
   "cell_type": "code",
   "execution_count": 5,
   "id": "following-saudi",
   "metadata": {},
   "outputs": [],
   "source": [
    "e2=Tensor(\"x\",j_1,j_0,i_0)*Tensor(\"x\",j_1,j_0,i_0)*(2*Tensor(\"x\",j_1,j_0))"
   ]
  },
  {
   "cell_type": "code",
   "execution_count": 6,
   "id": "outside-tuesday",
   "metadata": {
    "scrolled": true
   },
   "outputs": [
    {
     "data": {
      "text/plain": [
       "2 x(Çm, Çm) x(Çn, Çn, _i) x(Çp, Çp, _i)"
      ]
     },
     "execution_count": 6,
     "metadata": {},
     "output_type": "execute_result"
    }
   ],
   "source": [
    "e2\n",
    "#e2 + Tensor(\"x\",*(ContractedIndex(\"k\",2), ContractedIndex(\"k\",2),i_0,i_0))"
   ]
  },
  {
   "cell_type": "code",
   "execution_count": 7,
   "id": "latter-speech",
   "metadata": {},
   "outputs": [
    {
     "data": {
      "text/plain": [
       "True"
      ]
     },
     "execution_count": 7,
     "metadata": {},
     "output_type": "execute_result"
    }
   ],
   "source": [
    "e2.is_tensor"
   ]
  },
  {
   "cell_type": "code",
   "execution_count": 8,
   "id": "southeast-month",
   "metadata": {},
   "outputs": [],
   "source": [
    "z= Tensor(\"z\",i_0)\n",
    "w=Tensor(\"w\",i_0)\n",
    "m=Tensor(\"m\",i_0)"
   ]
  },
  {
   "cell_type": "code",
   "execution_count": 9,
   "id": "julian-damages",
   "metadata": {
    "scrolled": true
   },
   "outputs": [],
   "source": [
    "#z+m+w+2*z+z"
   ]
  },
  {
   "cell_type": "code",
   "execution_count": 10,
   "id": "artificial-fighter",
   "metadata": {},
   "outputs": [],
   "source": [
    "#2*z+z"
   ]
  },
  {
   "cell_type": "code",
   "execution_count": 11,
   "id": "ready-positive",
   "metadata": {},
   "outputs": [
    {
     "data": {
      "text/plain": [
       "2 x x(Çm, Çm, _i)"
      ]
     },
     "execution_count": 11,
     "metadata": {},
     "output_type": "execute_result"
    }
   ],
   "source": [
    "2*Scalar(\"x\")*x"
   ]
  },
  {
   "cell_type": "code",
   "execution_count": null,
   "id": "narrow-samoa",
   "metadata": {},
   "outputs": [],
   "source": []
  },
  {
   "cell_type": "code",
   "execution_count": 12,
   "id": "frequent-reward",
   "metadata": {},
   "outputs": [],
   "source": [
    "import algebra"
   ]
  },
  {
   "cell_type": "code",
   "execution_count": 13,
   "id": "spoken-prospect",
   "metadata": {},
   "outputs": [],
   "source": [
    "#3+(Scalar(\"x\")+3)"
   ]
  },
  {
   "cell_type": "code",
   "execution_count": 14,
   "id": "filled-bridal",
   "metadata": {},
   "outputs": [],
   "source": [
    "#2*Scalar(\"x\")+Scalar(\"x\")+Scalar(\"x\")+3*Scalar(\"x\")"
   ]
  },
  {
   "cell_type": "code",
   "execution_count": 22,
   "id": "outstanding-happening",
   "metadata": {
    "scrolled": true
   },
   "outputs": [
    {
     "data": {
      "text/plain": [
       "m_i + w_i + 3 + x z_i"
      ]
     },
     "execution_count": 22,
     "metadata": {},
     "output_type": "execute_result"
    }
   ],
   "source": [
    "PlusTensors(z,m,w,2*z,Scalar(\"x\")*z)"
   ]
  },
  {
   "cell_type": "code",
   "execution_count": null,
   "id": "residential-tuesday",
   "metadata": {},
   "outputs": [],
   "source": []
  },
  {
   "cell_type": "code",
   "execution_count": null,
   "id": "shaped-symphony",
   "metadata": {},
   "outputs": [],
   "source": []
  }
 ],
 "metadata": {
  "kernelspec": {
   "display_name": "Python 3",
   "language": "python",
   "name": "python3"
  },
  "language_info": {
   "codemirror_mode": {
    "name": "ipython",
    "version": 3
   },
   "file_extension": ".py",
   "mimetype": "text/x-python",
   "name": "python",
   "nbconvert_exporter": "python",
   "pygments_lexer": "ipython3",
   "version": "3.8.3"
  }
 },
 "nbformat": 4,
 "nbformat_minor": 5
}
