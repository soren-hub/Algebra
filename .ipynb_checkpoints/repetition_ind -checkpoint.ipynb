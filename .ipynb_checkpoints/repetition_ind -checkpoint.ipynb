{
 "cells": [
  {
   "cell_type": "code",
   "execution_count": 1,
   "id": "completed-assist",
   "metadata": {},
   "outputs": [],
   "source": [
    "from tensors import * \n",
    "#from algebra import *\n",
    "names=[(\"i\",0),(\"i\",1),(\"j\",0),(\"j\",1),(\"z\",0),(\"z\",1),(\"k\",1),(\"k\",0),(\"l\",0),(\"l\",1)]\n",
    "i_0,i_1,j_0,j_1,z_0,z_1,k_1,k_0,l_0,l_1=indexs(names)"
   ]
  },
  {
   "cell_type": "code",
   "execution_count": 2,
   "id": "hearing-surprise",
   "metadata": {},
   "outputs": [],
   "source": [
    "x = Tensor(\"x\",j_1,j_0,i_0)\n",
    "y = Tensor(\"y\",j_0,j_1,i_1)"
   ]
  },
  {
   "cell_type": "code",
   "execution_count": null,
   "id": "unnecessary-korean",
   "metadata": {},
   "outputs": [],
   "source": []
  },
  {
   "cell_type": "code",
   "execution_count": 3,
   "id": "dried-trainer",
   "metadata": {},
   "outputs": [],
   "source": [
    "#Scalar(\"x\")+Scalar(\"y\")*Scalar(\"x\")+Scalar(\"y\")+Scalar(\"x\")\n",
    "#e1=x+x*y+y+x\n",
    "#e1"
   ]
  },
  {
   "cell_type": "code",
   "execution_count": 4,
   "id": "following-saudi",
   "metadata": {},
   "outputs": [],
   "source": [
    "e2=Tensor(\"x\",j_1,j_0,i_0)*Tensor(\"x\",j_1,j_0,i_0)*Tensor(\"x\",j_1,j_0)"
   ]
  },
  {
   "cell_type": "code",
   "execution_count": 5,
   "id": "outside-tuesday",
   "metadata": {
    "scrolled": true
   },
   "outputs": [
    {
     "name": "stdout",
     "output_type": "stream",
     "text": [
      "-1\n",
      "4 x(Çk, Çk)*x(Çb, Çb, _i)*x(Çm, Çm, _i) x(Çk, Çk, _i, _i)\n"
     ]
    },
    {
     "data": {
      "text/plain": [
       "x(Çk, Çk, _i, _i) + x(Çk, Çk)*x(Çb, Çb, _i)*x(Çm, Çm, _i)"
      ]
     },
     "execution_count": 5,
     "metadata": {},
     "output_type": "execute_result"
    }
   ],
   "source": [
    "#e2\n",
    "e2 + Tensor(\"x\",*(ContractedIndex(\"k\",2), ContractedIndex(\"k\",2),i_0,i_0))"
   ]
  },
  {
   "cell_type": "code",
   "execution_count": 6,
   "id": "latter-speech",
   "metadata": {},
   "outputs": [
    {
     "data": {
      "text/plain": [
       "True"
      ]
     },
     "execution_count": 6,
     "metadata": {},
     "output_type": "execute_result"
    }
   ],
   "source": [
    "e2.is_tensor"
   ]
  },
  {
   "cell_type": "code",
   "execution_count": 7,
   "id": "southeast-month",
   "metadata": {},
   "outputs": [],
   "source": [
    "z= Tensor(\"z\",i_0)\n",
    "w=Tensor(\"w\",i_0)\n",
    "m=Tensor(\"m\",i_0)"
   ]
  },
  {
   "cell_type": "code",
   "execution_count": 8,
   "id": "painful-ethiopia",
   "metadata": {
    "scrolled": true
   },
   "outputs": [
    {
     "name": "stdout",
     "output_type": "stream",
     "text": [
      "-1\n",
      "4 z_i m_i\n"
     ]
    },
    {
     "data": {
      "text/plain": [
       "m_i + w_i + 3*z_i + z_i"
      ]
     },
     "execution_count": 8,
     "metadata": {},
     "output_type": "execute_result"
    }
   ],
   "source": [
    "z+m+z+w+2*z+z"
   ]
  },
  {
   "cell_type": "code",
   "execution_count": 9,
   "id": "artificial-fighter",
   "metadata": {},
   "outputs": [
    {
     "name": "stdout",
     "output_type": "stream",
     "text": [
      "-1\n",
      "4 2*z_i z_i\n"
     ]
    },
    {
     "data": {
      "text/plain": [
       "3*z_i"
      ]
     },
     "execution_count": 9,
     "metadata": {},
     "output_type": "execute_result"
    }
   ],
   "source": [
    "2*z+z"
   ]
  },
  {
   "cell_type": "code",
   "execution_count": 10,
   "id": "ready-positive",
   "metadata": {},
   "outputs": [],
   "source": [
    "import algebra "
   ]
  },
  {
   "cell_type": "code",
   "execution_count": 11,
   "id": "amended-weekend",
   "metadata": {},
   "outputs": [],
   "source": [
    "a=(y*z).get_args_tensors()"
   ]
  },
  {
   "cell_type": "code",
   "execution_count": null,
   "id": "prompt-nicaragua",
   "metadata": {},
   "outputs": [],
   "source": []
  },
  {
   "cell_type": "code",
   "execution_count": null,
   "id": "legendary-problem",
   "metadata": {},
   "outputs": [],
   "source": []
  },
  {
   "cell_type": "code",
   "execution_count": null,
   "id": "beneficial-venice",
   "metadata": {},
   "outputs": [],
   "source": []
  }
 ],
 "metadata": {
  "kernelspec": {
   "display_name": "Python 3",
   "language": "python",
   "name": "python3"
  },
  "language_info": {
   "codemirror_mode": {
    "name": "ipython",
    "version": 3
   },
   "file_extension": ".py",
   "mimetype": "text/x-python",
   "name": "python",
   "nbconvert_exporter": "python",
   "pygments_lexer": "ipython3",
   "version": "3.8.3"
  }
 },
 "nbformat": 4,
 "nbformat_minor": 5
}
