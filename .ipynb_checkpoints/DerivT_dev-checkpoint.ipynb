{
 "cells": [
  {
   "cell_type": "code",
   "execution_count": 1,
   "id": "powerful-appendix",
   "metadata": {
    "scrolled": true
   },
   "outputs": [],
   "source": [
    "from tensors import * \n",
    "from algebra import *"
   ]
  },
  {
   "cell_type": "code",
   "execution_count": 2,
   "id": "sharp-fireplace",
   "metadata": {},
   "outputs": [],
   "source": [
    "\n",
    "names=[(\"i\",0),(\"i\",1),\n",
    "       (\"j\",0),(\"j\",1),\n",
    "       (\"z\",0),(\"z\",1),\n",
    "       (\"k\",0),(\"k\",1),\n",
    "       (\"l\",0),(\"l\",1),\n",
    "       (\"u\",0),(\"u\",1),\n",
    "       (\"v\",0),(\"v\",1),\n",
    "       (\"n\",0),(\"n\",1),\n",
    "       (\"a\",0),(\"a\",1),\n",
    "       (\"b\",0),(\"b\",1)]\n",
    "\n",
    "(i_0,i_1,\n",
    " j_0,j_1,\n",
    " z_0,z_1,\n",
    " k_0,k_1,\n",
    " l_0,l_1,\n",
    " u_0,u_1,\n",
    " v_0,v_1,\n",
    " n_0,n_1,\n",
    " a_0,a_1,\n",
    " b_0,b_1)=indexs(names)\n"
   ]
  },
  {
   "cell_type": "code",
   "execution_count": 3,
   "id": "freelance-threshold",
   "metadata": {},
   "outputs": [],
   "source": [
    "#i_0\n",
    "#print(i_0==i_0)"
   ]
  },
  {
   "cell_type": "code",
   "execution_count": 4,
   "id": "surrounded-identification",
   "metadata": {},
   "outputs": [],
   "source": [
    "#i_2=ContractedIndex(\"i\",2)\n",
    "#i_2"
   ]
  },
  {
   "cell_type": "code",
   "execution_count": 5,
   "id": "nominated-helen",
   "metadata": {},
   "outputs": [],
   "source": [
    "#x = Tensor(\"x\",i_0,i_1,z_0,j_1,j_0)\n",
    "#x = Tensor(\"x\",j_1,j_0,i_0)\n",
    "#x"
   ]
  },
  {
   "cell_type": "code",
   "execution_count": 6,
   "id": "rental-latest",
   "metadata": {},
   "outputs": [],
   "source": [
    "#y = Tensor(\"y\",i_0,i_1)\n",
    "#y"
   ]
  },
  {
   "cell_type": "code",
   "execution_count": 7,
   "id": "antique-update",
   "metadata": {},
   "outputs": [],
   "source": [
    "#xx=MultTensors(x,x)\n",
    "\n"
   ]
  },
  {
   "cell_type": "code",
   "execution_count": 8,
   "id": "absent-ethernet",
   "metadata": {},
   "outputs": [],
   "source": [
    "#print(xx.get_indices())\n",
    "#print(sorted(xx.position_indices(),key=lambda x: x[1]))\n",
    "\n",
    "#print(xx.get_args_tensors())"
   ]
  },
  {
   "cell_type": "code",
   "execution_count": 9,
   "id": "attended-citation",
   "metadata": {},
   "outputs": [],
   "source": [
    "#e1=MultTensors(y,MultTensors(x,x))\n"
   ]
  },
  {
   "cell_type": "code",
   "execution_count": 10,
   "id": "configured-northwest",
   "metadata": {
    "scrolled": true
   },
   "outputs": [],
   "source": [
    "#e1"
   ]
  },
  {
   "cell_type": "code",
   "execution_count": 11,
   "id": "portable-coupon",
   "metadata": {},
   "outputs": [],
   "source": [
    "#e2=MultTensors(MultTensors(x,x),y)"
   ]
  },
  {
   "cell_type": "code",
   "execution_count": 12,
   "id": "green-parts",
   "metadata": {},
   "outputs": [],
   "source": [
    "#print(e1==e2)"
   ]
  },
  {
   "cell_type": "code",
   "execution_count": 13,
   "id": "precise-cisco",
   "metadata": {},
   "outputs": [],
   "source": [
    "#ScalPow(y,2)"
   ]
  },
  {
   "cell_type": "code",
   "execution_count": 14,
   "id": "divine-coordination",
   "metadata": {},
   "outputs": [],
   "source": [
    "#e3=Tensor(\"R\",j_0,i_0)*Tensor(\"R\",j_1,i_1)"
   ]
  },
  {
   "cell_type": "code",
   "execution_count": 15,
   "id": "signed-taxation",
   "metadata": {},
   "outputs": [],
   "source": [
    "#e3#problema para arreglar despues "
   ]
  },
  {
   "cell_type": "code",
   "execution_count": 16,
   "id": "ultimate-provincial",
   "metadata": {
    "scrolled": true
   },
   "outputs": [],
   "source": [
    "#MultTensors(x,Tensor(\"R\",j_0,i_0))==MultTensors(Tensor(\"R\",j_0,i_0),x)"
   ]
  },
  {
   "cell_type": "code",
   "execution_count": 17,
   "id": "convinced-resident",
   "metadata": {},
   "outputs": [],
   "source": [
    "#e4=Tensor(\"R\",j_0,i_0)*Tensor(\"R\",j_1,i_1)*y*Scalar(\"x\")*2*4"
   ]
  },
  {
   "cell_type": "code",
   "execution_count": 18,
   "id": "brave-obligation",
   "metadata": {},
   "outputs": [],
   "source": [
    "#e4"
   ]
  },
  {
   "cell_type": "code",
   "execution_count": 19,
   "id": "junior-observer",
   "metadata": {},
   "outputs": [],
   "source": [
    "#e5=Tensor(\"R\",j_0,i_0)*Tensor(\"R\",j_1,i_1)"
   ]
  },
  {
   "cell_type": "markdown",
   "id": "headed-technique",
   "metadata": {},
   "source": [
    "Examples\n"
   ]
  },
  {
   "cell_type": "code",
   "execution_count": 20,
   "id": "pleased-berlin",
   "metadata": {},
   "outputs": [],
   "source": [
    "#u_2=ContractedIndex(\"u\",2)\n",
    "#q_2=ContractedIndex(\"q\",2)"
   ]
  },
  {
   "cell_type": "code",
   "execution_count": 21,
   "id": "interim-tobago",
   "metadata": {},
   "outputs": [],
   "source": [
    "#x = Tensor(\"x\",i_0)* Tensor(\"y\",j_0) + Tensor(\"R\",i_0)*Tensor(\"H\",j_0)\n",
    "#x"
   ]
  },
  {
   "cell_type": "code",
   "execution_count": 22,
   "id": "encouraging-lesbian",
   "metadata": {
    "scrolled": true
   },
   "outputs": [],
   "source": [
    "#a=DerivTensors(x,i_1,j_1)"
   ]
  },
  {
   "cell_type": "code",
   "execution_count": 23,
   "id": "likely-substitute",
   "metadata": {},
   "outputs": [],
   "source": [
    "#a#.contraction(mult_tensor=True)"
   ]
  },
  {
   "cell_type": "code",
   "execution_count": 24,
   "id": "industrial-washer",
   "metadata": {},
   "outputs": [],
   "source": [
    "#(a.expanded()+DerivTensors(Tensor(\"H\",q_2),u_2,q_2)*Tensor(\"R\",u_2))"
   ]
  },
  {
   "cell_type": "code",
   "execution_count": 25,
   "id": "available-seafood",
   "metadata": {
    "scrolled": true
   },
   "outputs": [],
   "source": [
    "#e=1 + Tensor(\"y\",i_0,i_1) + 3 + Scalar(\"z\") + Tensor(\"y\",i_0,i_1) + Scalar(\"x\")+ Scalar(\"x\")**2 + Scalar(\"x\")**2"
   ]
  },
  {
   "cell_type": "code",
   "execution_count": 26,
   "id": "ranking-forty",
   "metadata": {},
   "outputs": [],
   "source": [
    "#e"
   ]
  },
  {
   "cell_type": "code",
   "execution_count": 27,
   "id": "direct-stream",
   "metadata": {},
   "outputs": [],
   "source": [
    "#metric=Tensor(\"n\",u_0,v_0)\n",
    "#h_u_b = Tensor(\"h\",u_0,b_0)\n",
    "#h_v_b = Tensor(\"h\",v_0,b_0)\n",
    "#h_u_v = Tensor(\"h\",u_0,v_0)\n",
    "#cris=(DerivTensors(h_u_b,v_0)+DerivTensors(h_v_b,u_0)+DerivTensors(h_u_v,b_0))*(1/2)*metric"
   ]
  },
  {
   "cell_type": "code",
   "execution_count": 28,
   "id": "coupled-desktop",
   "metadata": {},
   "outputs": [],
   "source": [
    "#cris#.expanded()"
   ]
  },
  {
   "cell_type": "code",
   "execution_count": 29,
   "id": "surgical-henry",
   "metadata": {},
   "outputs": [],
   "source": [
    "#DerivTensors(h_u_b,v_0)\n"
   ]
  },
  {
   "cell_type": "code",
   "execution_count": 30,
   "id": "perfect-patch",
   "metadata": {},
   "outputs": [],
   "source": [
    "#args=[(1/2),n,(DerivTensors(h_u_b,v_0)+DerivTensors(h_v_b,u_0)+DerivTensors(h_u_v,b_0))]"
   ]
  },
  {
   "cell_type": "code",
   "execution_count": 31,
   "id": "latin-bachelor",
   "metadata": {},
   "outputs": [],
   "source": [
    "#list(filter(lambda f:isinstance(f,PlusTensors),args))"
   ]
  },
  {
   "cell_type": "code",
   "execution_count": 32,
   "id": "lyric-connecticut",
   "metadata": {},
   "outputs": [],
   "source": [
    "#(DerivTensors(h_u_b,v_0)+DerivTensors(h_v_b,u_0)+DerivTensors(h_u_v,b_0))"
   ]
  },
  {
   "cell_type": "code",
   "execution_count": 33,
   "id": "underlying-board",
   "metadata": {},
   "outputs": [],
   "source": [
    "#MultTensors(1,DerivTensors(h_v_b,u_0))"
   ]
  },
  {
   "cell_type": "code",
   "execution_count": 34,
   "id": "three-outline",
   "metadata": {
    "scrolled": true
   },
   "outputs": [],
   "source": [
    "#MultTensors(Tensor(\"x\",u_1),DerivTensors(h_v_b,u_0))"
   ]
  },
  {
   "cell_type": "code",
   "execution_count": 35,
   "id": "familiar-caribbean",
   "metadata": {},
   "outputs": [],
   "source": [
    "#MultTensors(Tensor(\"x\",u_1),DerivTensors(h_v_b,u_0))"
   ]
  },
  {
   "cell_type": "code",
   "execution_count": 36,
   "id": "secure-genome",
   "metadata": {},
   "outputs": [],
   "source": [
    "#falta comprobar deriv(mult_Ten,ind)\n",
    "#e0=DerivTensors(Tensor(\"H\",b_0),a_0)*Tensor(\"R\",a_1)\n",
    "#e1=DerivTensors(e0,b_1)"
   ]
  },
  {
   "cell_type": "code",
   "execution_count": 37,
   "id": "turned-welding",
   "metadata": {},
   "outputs": [],
   "source": [
    "#a.ignore_metric()"
   ]
  },
  {
   "cell_type": "code",
   "execution_count": 38,
   "id": "approximate-launch",
   "metadata": {},
   "outputs": [],
   "source": [
    "#metric=Metric(\"n\",a_1,v_0)\n",
    "#h_a_v = Tensor(\"h\",a_0,u_0)"
   ]
  },
  {
   "cell_type": "code",
   "execution_count": 39,
   "id": "manual-opposition",
   "metadata": {},
   "outputs": [],
   "source": [
    "#a=h_a_v*metric*(Tensor(\"x\",i_0)+Tensor(\"y\",i_0))\n",
    "#a"
   ]
  },
  {
   "cell_type": "code",
   "execution_count": 40,
   "id": "accredited-oliver",
   "metadata": {
    "scrolled": false
   },
   "outputs": [],
   "source": [
    "#a.ignore_metric_contracted()"
   ]
  },
  {
   "cell_type": "code",
   "execution_count": 41,
   "id": "macro-holder",
   "metadata": {},
   "outputs": [],
   "source": [
    "#guardar los indices "
   ]
  },
  {
   "cell_type": "code",
   "execution_count": 42,
   "id": "material-equivalent",
   "metadata": {},
   "outputs": [],
   "source": [
    "#a={1: 2}"
   ]
  },
  {
   "cell_type": "code",
   "execution_count": 43,
   "id": "sexual-newspaper",
   "metadata": {},
   "outputs": [],
   "source": [
    "#list(a.keys())"
   ]
  },
  {
   "cell_type": "code",
   "execution_count": null,
   "id": "least-mitchell",
   "metadata": {},
   "outputs": [],
   "source": []
  },
  {
   "cell_type": "code",
   "execution_count": null,
   "id": "gorgeous-slovenia",
   "metadata": {},
   "outputs": [],
   "source": []
  },
  {
   "cell_type": "code",
   "execution_count": 44,
   "id": "introductory-oklahoma",
   "metadata": {},
   "outputs": [
    {
     "data": {
      "text/plain": [
       "n(_v, _a) + h(_v, _a) + O(ϵ^2)"
      ]
     },
     "execution_count": 44,
     "metadata": {},
     "output_type": "execute_result"
    }
   ],
   "source": [
    "#m = (metric+h_u_v)\n",
    "metric=Metric(\"n\",v_0,a_0)\n",
    "h_a_v = Tensor(\"h\",v_0,a_0)\n",
    "terms =[metric,h_a_v] \n",
    "m = Serie(terms,h_a_v,for_tensor=True)\n",
    "m"
   ]
  },
  {
   "cell_type": "code",
   "execution_count": 45,
   "id": "intelligent-gauge",
   "metadata": {},
   "outputs": [
    {
     "data": {
      "text/plain": [
       "n(_v, _a) + h(_v, _a) + O(ϵ^2)"
      ]
     },
     "execution_count": 45,
     "metadata": {},
     "output_type": "execute_result"
    }
   ],
   "source": [
    "m"
   ]
  },
  {
   "cell_type": "code",
   "execution_count": 46,
   "id": "statistical-secret",
   "metadata": {
    "scrolled": true
   },
   "outputs": [
    {
     "name": "stdout",
     "output_type": "stream",
     "text": [
      "h(^g, ^w) (^w, ^a) int\n",
      "h(^w, ^a) out2\n",
      "- h(^w, Çg) h(^y, Çg) (^w, ^a) int\n",
      "h(^a, Çg)\n",
      "h(^w, Çg) ^w 1\n",
      "- h(^a, Çt) h(^w, Çt) out1\n",
      "h(Çy, Ça) h(^w, Ça) h(^g, Çy) (^w, ^a) int\n",
      "h(Çy, Ça)\n",
      "h(Çy, Ça)\n",
      "h(Çy, Ça) h(Çy, Ça) out1\n"
     ]
    },
    {
     "data": {
      "text/plain": [
       "n(^w, ^a) + - h(^w, ^a) + h(^a, Çg) h(^w, Çg) + - h(Çy, Ça) h(Çy, Ça) + O(ϵ^4)"
      ]
     },
     "execution_count": 46,
     "metadata": {},
     "output_type": "execute_result"
    }
   ],
   "source": [
    "a=invers_metric(m,order=3)\n",
    "a"
   ]
  },
  {
   "cell_type": "code",
   "execution_count": 47,
   "id": "uniform-apparatus",
   "metadata": {},
   "outputs": [],
   "source": [
    "#m.make_plus().get_args_tensors()"
   ]
  },
  {
   "cell_type": "markdown",
   "id": "national-circulation",
   "metadata": {},
   "source": [
    "\n",
    "n(^h, ^v)\n",
    "n(_a, Çp) n(^h, Çp) + h(_a, Çs) n(^h, Çs) + n(_a, Çi) X(^h, Çi) + O(ϵ^2) 1\n",
    " | X(_a, ^h) + h(_a, ^h) 2\n",
    "n(^a, ^p) (X(_a, ^h) + h(_a, ^h)) 3\n",
    "X(^p, ^h) + h(^p, ^h) 4\n",
    "[h(^p, ^h)] 5"
   ]
  },
  {
   "cell_type": "code",
   "execution_count": 48,
   "id": "isolated-forest",
   "metadata": {},
   "outputs": [
    {
     "data": {
      "text/plain": [
       "n(^w, ^a) + - h(^w, ^a) + h(^a, Çg) h(^w, Çg) + - h(Çy, Ça) h(Çy, Ça) + O(ϵ^4)"
      ]
     },
     "execution_count": 48,
     "metadata": {},
     "output_type": "execute_result"
    }
   ],
   "source": [
    "a"
   ]
  },
  {
   "cell_type": "code",
   "execution_count": 49,
   "id": "driven-oliver",
   "metadata": {},
   "outputs": [
    {
     "data": {
      "text/plain": [
       "'h(Çb, Çc) h(^a, Çb) h(^p, Çc)'"
      ]
     },
     "execution_count": 49,
     "metadata": {},
     "output_type": "execute_result"
    }
   ],
   "source": [
    "\"el problema es q eleva al cuadrado los tensores scalares\"\n",
    "\"h(Çb, Çc) h(^a, Çb) h(^p, Çc)\""
   ]
  },
  {
   "cell_type": "code",
   "execution_count": 50,
   "id": "secure-butterfly",
   "metadata": {},
   "outputs": [
    {
     "data": {
      "text/plain": [
       "h(Çm, Çt) h(^a, Çm) h(^p, Çt)"
      ]
     },
     "execution_count": 50,
     "metadata": {},
     "output_type": "execute_result"
    }
   ],
   "source": [
    "p=Tensor(\"h\",ContractedIndex(\"b\",2),ContractedIndex(\"c\",2))*Tensor(\"h\",Index(\"a\",1),ContractedIndex(\"b\",2))*Tensor(\"h\",Index(\"p\",1),ContractedIndex(\"c\",2))\n",
    "p"
   ]
  },
  {
   "cell_type": "code",
   "execution_count": 57,
   "id": "third-observation",
   "metadata": {},
   "outputs": [],
   "source": [
    "def change_name(exp,indices):  \n",
    "        print(exp,indices,\"int\")\n",
    "        list_ind=sorted(indices,key=lambda ind:ind.get_name())\n",
    "        if isinstance(exp,MultTensors):\n",
    "            Scalars = list(exp.get_args_Scalars())\n",
    "            new_mult = Scalars\n",
    "            tensors =list(exp.get_args_tensors())\n",
    "            ind_pos=exp.position_indices(notfree=True)\n",
    "            notfreeind = sorted(ind_pos,key=lambda tup:tup[0].get_name())\n",
    "            new_indices = exp.position_indices(contracted=True)\n",
    "            for index,pos in notfreeind:\n",
    "                i=0\n",
    "                while i < len(list_ind):\n",
    "                    if index.get_name() == list_ind[i].get_name() :\n",
    "                        new_indices.append((index,pos))\n",
    "                        list_ind.remove(index)\n",
    "                        break\n",
    "                    else: \n",
    "                        new_indices.append((list_ind[i],pos))\n",
    "                        break\n",
    "            new_indices.sort(key=lambda tup:tup[1])\n",
    "            print(new_indices)\n",
    "            inds=[k for k,v in new_indices]\n",
    "            print(tensors)\n",
    "            print(inds,indices)\n",
    "            aux=0\n",
    "            for t in tensors:  \n",
    "                print(t,\"t\")\n",
    "                inds = t.get_indices()\n",
    "                qua_ind= aux + len(inds)    \n",
    "                print(inds[aux:qua_ind],\"ind\")\n",
    "                tensor=Tensor(t.get_name(),*inds[aux:qua_ind])\n",
    "                print(tensor,\"tens\")\n",
    "                new_mult.append(tensor)\n",
    "                aux= qua_ind\n",
    "            term = MultTensors(*new_mult)\n",
    "            return term\n",
    "        elif isinstance(exp,Tensor): \n",
    "            print(Tensor(exp.get_name(),*indices),\"out2\")\n",
    "            return Tensor(exp.get_name(),*indices)"
   ]
  },
  {
   "cell_type": "code",
   "execution_count": 58,
   "id": "express-times",
   "metadata": {},
   "outputs": [
    {
     "name": "stdout",
     "output_type": "stream",
     "text": [
      "h(Çm, Çt) h(^a, Çm) h(^p, Çt) (^a, ^z) int\n",
      "[(Çm, 0), (Çt, 1), (^a, 2), (Çm, 3), (^z, 4), (Çt, 5)]\n",
      "[h(Çm, Çt), h(^a, Çm), h(^p, Çt)]\n",
      "[Çm, Çt, ^a, Çm, ^z, Çt] (^a, ^z)\n",
      "h(Çm, Çt) t\n",
      "h(Çm, Çt) tens\n",
      "h(^a, Çm) t\n"
     ]
    },
    {
     "ename": "IndexError",
     "evalue": "tuple index out of range",
     "output_type": "error",
     "traceback": [
      "\u001b[1;31m---------------------------------------------------------------------------\u001b[0m",
      "\u001b[1;31mIndexError\u001b[0m                                Traceback (most recent call last)",
      "\u001b[1;32m<ipython-input-58-66a46c7ecdf1>\u001b[0m in \u001b[0;36m<module>\u001b[1;34m\u001b[0m\n\u001b[1;32m----> 1\u001b[1;33m \u001b[0mchange_name\u001b[0m\u001b[1;33m(\u001b[0m\u001b[0mp\u001b[0m\u001b[1;33m,\u001b[0m\u001b[1;33m(\u001b[0m\u001b[0mIndex\u001b[0m\u001b[1;33m(\u001b[0m\u001b[1;34m\"a\"\u001b[0m\u001b[1;33m,\u001b[0m\u001b[1;36m1\u001b[0m\u001b[1;33m)\u001b[0m\u001b[1;33m,\u001b[0m\u001b[0mIndex\u001b[0m\u001b[1;33m(\u001b[0m\u001b[1;34m\"z\"\u001b[0m\u001b[1;33m,\u001b[0m\u001b[1;36m1\u001b[0m\u001b[1;33m)\u001b[0m\u001b[1;33m)\u001b[0m\u001b[1;33m)\u001b[0m\u001b[1;33m\u001b[0m\u001b[1;33m\u001b[0m\u001b[0m\n\u001b[0m",
      "\u001b[1;32m<ipython-input-57-8f2833c1acc0>\u001b[0m in \u001b[0;36mchange_name\u001b[1;34m(exp, indices)\u001b[0m\n\u001b[0;32m     30\u001b[0m                 \u001b[0mqua_ind\u001b[0m\u001b[1;33m=\u001b[0m \u001b[0maux\u001b[0m \u001b[1;33m+\u001b[0m \u001b[0mlen\u001b[0m\u001b[1;33m(\u001b[0m\u001b[0minds\u001b[0m\u001b[1;33m)\u001b[0m\u001b[1;33m\u001b[0m\u001b[1;33m\u001b[0m\u001b[0m\n\u001b[0;32m     31\u001b[0m                 \u001b[0mtensor\u001b[0m\u001b[1;33m=\u001b[0m\u001b[0mTensor\u001b[0m\u001b[1;33m(\u001b[0m\u001b[0mt\u001b[0m\u001b[1;33m.\u001b[0m\u001b[0mget_name\u001b[0m\u001b[1;33m(\u001b[0m\u001b[1;33m)\u001b[0m\u001b[1;33m,\u001b[0m\u001b[1;33m*\u001b[0m\u001b[0minds\u001b[0m\u001b[1;33m[\u001b[0m\u001b[0maux\u001b[0m\u001b[1;33m:\u001b[0m\u001b[0mqua_ind\u001b[0m\u001b[1;33m]\u001b[0m\u001b[1;33m)\u001b[0m\u001b[1;33m\u001b[0m\u001b[1;33m\u001b[0m\u001b[0m\n\u001b[1;32m---> 32\u001b[1;33m                 \u001b[0mprint\u001b[0m\u001b[1;33m(\u001b[0m\u001b[0mtensor\u001b[0m\u001b[1;33m,\u001b[0m\u001b[1;34m\"tens\"\u001b[0m\u001b[1;33m)\u001b[0m\u001b[1;33m\u001b[0m\u001b[1;33m\u001b[0m\u001b[0m\n\u001b[0m\u001b[0;32m     33\u001b[0m                 \u001b[0mnew_mult\u001b[0m\u001b[1;33m.\u001b[0m\u001b[0mappend\u001b[0m\u001b[1;33m(\u001b[0m\u001b[0mtensor\u001b[0m\u001b[1;33m)\u001b[0m\u001b[1;33m\u001b[0m\u001b[1;33m\u001b[0m\u001b[0m\n\u001b[0;32m     34\u001b[0m                 \u001b[0maux\u001b[0m\u001b[1;33m=\u001b[0m \u001b[0mqua_ind\u001b[0m\u001b[1;33m\u001b[0m\u001b[1;33m\u001b[0m\u001b[0m\n",
      "\u001b[1;32m~\\Documents\\GitHub\\Algebra\\tensors.py\u001b[0m in \u001b[0;36m__repr__\u001b[1;34m(self)\u001b[0m\n\u001b[0;32m    357\u001b[0m         \u001b[0mname\u001b[0m \u001b[1;33m=\u001b[0m \u001b[0mself\u001b[0m\u001b[1;33m.\u001b[0m\u001b[0mname\u001b[0m\u001b[1;33m\u001b[0m\u001b[1;33m\u001b[0m\u001b[0m\n\u001b[0;32m    358\u001b[0m         \u001b[0minds\u001b[0m \u001b[1;33m=\u001b[0m \u001b[0mself\u001b[0m\u001b[1;33m.\u001b[0m\u001b[0mindices\u001b[0m\u001b[1;33m\u001b[0m\u001b[1;33m\u001b[0m\u001b[0m\n\u001b[1;32m--> 359\u001b[1;33m         \u001b[1;32mreturn\u001b[0m  \u001b[0mname\u001b[0m \u001b[1;33m+\u001b[0m \u001b[0mrepr\u001b[0m\u001b[1;33m(\u001b[0m\u001b[0minds\u001b[0m\u001b[1;33m)\u001b[0m \u001b[1;32mif\u001b[0m \u001b[0mlen\u001b[0m\u001b[1;33m(\u001b[0m\u001b[0minds\u001b[0m\u001b[1;33m)\u001b[0m \u001b[1;33m>\u001b[0m \u001b[1;36m1\u001b[0m \u001b[1;32melse\u001b[0m  \u001b[0mname\u001b[0m\u001b[1;33m+\u001b[0m\u001b[0mrepr\u001b[0m\u001b[1;33m(\u001b[0m\u001b[0minds\u001b[0m\u001b[1;33m[\u001b[0m\u001b[1;36m0\u001b[0m\u001b[1;33m]\u001b[0m\u001b[1;33m)\u001b[0m\u001b[1;33m\u001b[0m\u001b[1;33m\u001b[0m\u001b[0m\n\u001b[0m\u001b[0;32m    360\u001b[0m \u001b[1;33m\u001b[0m\u001b[0m\n\u001b[0;32m    361\u001b[0m     \u001b[1;32mdef\u001b[0m \u001b[0mis_scalar\u001b[0m\u001b[1;33m(\u001b[0m\u001b[0mself\u001b[0m\u001b[1;33m)\u001b[0m\u001b[1;33m:\u001b[0m\u001b[1;33m\u001b[0m\u001b[1;33m\u001b[0m\u001b[0m\n",
      "\u001b[1;31mIndexError\u001b[0m: tuple index out of range"
     ]
    }
   ],
   "source": [
    "change_name(p,(Index(\"a\",1),Index(\"z\",1)))"
   ]
  },
  {
   "cell_type": "code",
   "execution_count": null,
   "id": "general-heating",
   "metadata": {},
   "outputs": [],
   "source": []
  },
  {
   "cell_type": "code",
   "execution_count": null,
   "id": "gothic-knowing",
   "metadata": {},
   "outputs": [],
   "source": []
  },
  {
   "cell_type": "code",
   "execution_count": null,
   "id": "tender-wheat",
   "metadata": {},
   "outputs": [],
   "source": []
  }
 ],
 "metadata": {
  "kernelspec": {
   "display_name": "Python 3",
   "language": "python",
   "name": "python3"
  },
  "language_info": {
   "codemirror_mode": {
    "name": "ipython",
    "version": 3
   },
   "file_extension": ".py",
   "mimetype": "text/x-python",
   "name": "python",
   "nbconvert_exporter": "python",
   "pygments_lexer": "ipython3",
   "version": "3.8.3"
  }
 },
 "nbformat": 4,
 "nbformat_minor": 5
}
