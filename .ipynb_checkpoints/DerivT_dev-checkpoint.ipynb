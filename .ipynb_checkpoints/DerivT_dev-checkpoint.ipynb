{
 "cells": [
  {
   "cell_type": "code",
   "execution_count": 1,
   "id": "powerful-appendix",
   "metadata": {
    "scrolled": true
   },
   "outputs": [
    {
     "ename": "SyntaxError",
     "evalue": "closing parenthesis ']' does not match opening parenthesis '(' (tensors.py, line 25)",
     "output_type": "error",
     "traceback": [
      "Traceback \u001b[1;36m(most recent call last)\u001b[0m:\n",
      "  File \u001b[0;32m\"C:\\Users\\joaqu\\anaconda3\\lib\\site-packages\\IPython\\core\\interactiveshell.py\"\u001b[0m, line \u001b[0;32m3437\u001b[0m, in \u001b[0;35mrun_code\u001b[0m\n    exec(code_obj, self.user_global_ns, self.user_ns)\n",
      "\u001b[1;36m  File \u001b[1;32m\"<ipython-input-1-ac8187464003>\"\u001b[1;36m, line \u001b[1;32m1\u001b[1;36m, in \u001b[1;35m<module>\u001b[1;36m\u001b[0m\n\u001b[1;33m    from tensors import *\u001b[0m\n",
      "\u001b[1;36m  File \u001b[1;32m\"C:\\Users\\joaqu\\Documents\\GitHub\\Algebra\\tensors.py\"\u001b[1;36m, line \u001b[1;32m25\u001b[0m\n\u001b[1;33m    def indexs(names,listvar=[]]):\u001b[0m\n\u001b[1;37m                               ^\u001b[0m\n\u001b[1;31mSyntaxError\u001b[0m\u001b[1;31m:\u001b[0m closing parenthesis ']' does not match opening parenthesis '('\n"
     ]
    }
   ],
   "source": [
    "from tensors import * "
   ]
  },
  {
   "cell_type": "code",
   "execution_count": null,
   "id": "sharp-fireplace",
   "metadata": {},
   "outputs": [],
   "source": [
    "names=[(\"i\",0),(\"i\",1),(\"j\",0),(\"j\",1),(\"z\",0),(\"z\",1),(\"k\",1),(\"k\",0),(\"l\",0),(\"l\",1)]\n",
    "i_0,i_1,j_0,j_1,z_0,z_1,k_1,k_0,l_0,l_1=indexs(names)"
   ]
  },
  {
   "cell_type": "code",
   "execution_count": null,
   "id": "freelance-threshold",
   "metadata": {},
   "outputs": [],
   "source": [
    "#i_0\n",
    "#print(i_0==i_0)"
   ]
  },
  {
   "cell_type": "code",
   "execution_count": null,
   "id": "surrounded-identification",
   "metadata": {},
   "outputs": [],
   "source": [
    "#i_2=ContractedIndex(\"i\",2)\n",
    "#i_2"
   ]
  },
  {
   "cell_type": "code",
   "execution_count": null,
   "id": "nominated-helen",
   "metadata": {},
   "outputs": [],
   "source": [
    "#x = Tensor(\"x\",i_0,i_1,z_0,j_1,j_0)\n",
    "#x = Tensor(\"x\",j_1,j_0,i_0)\n",
    "#x"
   ]
  },
  {
   "cell_type": "code",
   "execution_count": null,
   "id": "rental-latest",
   "metadata": {},
   "outputs": [],
   "source": [
    "#y = Tensor(\"y\",i_0,i_1)\n",
    "#y"
   ]
  },
  {
   "cell_type": "code",
   "execution_count": null,
   "id": "antique-update",
   "metadata": {},
   "outputs": [],
   "source": [
    "#xx=MultTensors(x,x)\n",
    "\n"
   ]
  },
  {
   "cell_type": "code",
   "execution_count": null,
   "id": "absent-ethernet",
   "metadata": {},
   "outputs": [],
   "source": [
    "#print(xx.get_indices())\n",
    "#print(sorted(xx.position_indices(),key=lambda x: x[1]))\n",
    "\n",
    "#print(xx.get_args_tensors())"
   ]
  },
  {
   "cell_type": "code",
   "execution_count": null,
   "id": "attended-citation",
   "metadata": {},
   "outputs": [],
   "source": [
    "#e1=MultTensors(y,MultTensors(x,x))\n"
   ]
  },
  {
   "cell_type": "code",
   "execution_count": null,
   "id": "configured-northwest",
   "metadata": {
    "scrolled": true
   },
   "outputs": [],
   "source": [
    "#e1"
   ]
  },
  {
   "cell_type": "code",
   "execution_count": null,
   "id": "portable-coupon",
   "metadata": {},
   "outputs": [],
   "source": [
    "#e2=MultTensors(MultTensors(x,x),y)"
   ]
  },
  {
   "cell_type": "code",
   "execution_count": null,
   "id": "green-parts",
   "metadata": {},
   "outputs": [],
   "source": [
    "#print(e1==e2)"
   ]
  },
  {
   "cell_type": "code",
   "execution_count": null,
   "id": "precise-cisco",
   "metadata": {},
   "outputs": [],
   "source": [
    "#ScalPow(y,2)"
   ]
  },
  {
   "cell_type": "code",
   "execution_count": null,
   "id": "divine-coordination",
   "metadata": {},
   "outputs": [],
   "source": [
    "#e3=Tensor(\"R\",j_0,i_0)*Tensor(\"R\",j_1,i_1)"
   ]
  },
  {
   "cell_type": "code",
   "execution_count": null,
   "id": "signed-taxation",
   "metadata": {},
   "outputs": [],
   "source": [
    "#e3#problema para arreglar despues "
   ]
  },
  {
   "cell_type": "code",
   "execution_count": null,
   "id": "ultimate-provincial",
   "metadata": {
    "scrolled": true
   },
   "outputs": [],
   "source": [
    "#MultTensors(x,Tensor(\"R\",j_0,i_0))==MultTensors(Tensor(\"R\",j_0,i_0),x)"
   ]
  },
  {
   "cell_type": "code",
   "execution_count": null,
   "id": "convinced-resident",
   "metadata": {},
   "outputs": [],
   "source": [
    "#e4=Tensor(\"R\",j_0,i_0)*Tensor(\"R\",j_1,i_1)*y*Scalar(\"x\")*2*4"
   ]
  },
  {
   "cell_type": "code",
   "execution_count": null,
   "id": "brave-obligation",
   "metadata": {},
   "outputs": [],
   "source": [
    "#e4"
   ]
  },
  {
   "cell_type": "code",
   "execution_count": null,
   "id": "junior-observer",
   "metadata": {},
   "outputs": [],
   "source": [
    "#e5=Tensor(\"R\",j_0,i_0)*Tensor(\"R\",j_1,i_1)"
   ]
  },
  {
   "cell_type": "markdown",
   "id": "suspended-corpus",
   "metadata": {},
   "source": [
    "Examples\n"
   ]
  },
  {
   "cell_type": "code",
   "execution_count": null,
   "id": "pleased-berlin",
   "metadata": {},
   "outputs": [],
   "source": [
    "#u_2=ContractedIndex(\"u\",2)\n",
    "#q_2=ContractedIndex(\"q\",2)"
   ]
  },
  {
   "cell_type": "code",
   "execution_count": null,
   "id": "greater-description",
   "metadata": {},
   "outputs": [],
   "source": [
    "#x = Tensor(\"x\",i_0)* Tensor(\"y\",j_0) + Tensor(\"R\",i_0)*Tensor(\"H\",j_0)\n",
    "#x"
   ]
  },
  {
   "cell_type": "code",
   "execution_count": null,
   "id": "encouraging-lesbian",
   "metadata": {
    "scrolled": true
   },
   "outputs": [],
   "source": [
    "#a=DerivTensors(x,i_1,j_1)"
   ]
  },
  {
   "cell_type": "code",
   "execution_count": null,
   "id": "likely-substitute",
   "metadata": {},
   "outputs": [],
   "source": [
    "#a.expanded()#.contraction(mult_tensor=True)"
   ]
  },
  {
   "cell_type": "code",
   "execution_count": null,
   "id": "circular-buddy",
   "metadata": {},
   "outputs": [],
   "source": [
    "#(a+DerivTensors(Tensor(\"H\",q_2),u_2,q_2)*Tensor(\"R\",u_2)).expanded()"
   ]
  },
  {
   "cell_type": "code",
   "execution_count": null,
   "id": "available-seafood",
   "metadata": {
    "scrolled": true
   },
   "outputs": [],
   "source": [
    "#e=1 + Tensor(\"y\",i_0,i_1) + 3 + Scalar(\"z\") + Tensor(\"y\",i_0,i_1) + Scalar(\"x\")+ Scalar(\"x\")**2 + Scalar(\"x\")**2"
   ]
  },
  {
   "cell_type": "code",
   "execution_count": 4,
   "id": "loaded-leisure",
   "metadata": {},
   "outputs": [
    {
     "ename": "NameError",
     "evalue": "name 'i_0' is not defined",
     "output_type": "error",
     "traceback": [
      "\u001b[1;31m---------------------------------------------------------------------------\u001b[0m",
      "\u001b[1;31mNameError\u001b[0m                                 Traceback (most recent call last)",
      "\u001b[1;32m<ipython-input-4-82da3e32baa5>\u001b[0m in \u001b[0;36m<module>\u001b[1;34m\u001b[0m\n\u001b[0;32m      7\u001b[0m        \u001b[1;33m(\u001b[0m\u001b[1;34m\"u\"\u001b[0m\u001b[1;33m,\u001b[0m\u001b[1;36m0\u001b[0m\u001b[1;33m)\u001b[0m\u001b[1;33m,\u001b[0m\u001b[1;33m(\u001b[0m\u001b[1;34m\"u\"\u001b[0m\u001b[1;33m,\u001b[0m\u001b[1;36m1\u001b[0m\u001b[1;33m)\u001b[0m\u001b[1;33m,\u001b[0m\u001b[1;33m\u001b[0m\u001b[1;33m\u001b[0m\u001b[0m\n\u001b[0;32m      8\u001b[0m        (\"n\",0),(\"n\",1)]\n\u001b[1;32m----> 9\u001b[1;33m var=[i_0,i_1,\n\u001b[0m\u001b[0;32m     10\u001b[0m      \u001b[0mj_0\u001b[0m\u001b[1;33m,\u001b[0m\u001b[0mj_1\u001b[0m\u001b[1;33m,\u001b[0m\u001b[1;33m\u001b[0m\u001b[1;33m\u001b[0m\u001b[0m\n\u001b[0;32m     11\u001b[0m      \u001b[0mz_0\u001b[0m\u001b[1;33m,\u001b[0m\u001b[0mz_1\u001b[0m\u001b[1;33m,\u001b[0m\u001b[1;33m\u001b[0m\u001b[1;33m\u001b[0m\u001b[0m\n",
      "\u001b[1;31mNameError\u001b[0m: name 'i_0' is not defined"
     ]
    }
   ],
   "source": [
    "#e\n",
    "names=[(\"i\",0),(\"i\",1),\n",
    "       (\"j\",0),(\"j\",1),\n",
    "       (\"z\",0),(\"z\",1),\n",
    "       (\"k\",0),(\"k\",1),\n",
    "       (\"l\",0),(\"l\",1),\n",
    "       (\"u\",0),(\"u\",1),\n",
    "       (\"n\",0),(\"n\",1)]\n",
    "var=[\"i_0\",\"i_1\",\n",
    "     \"j_0\",\"j_1\",\n",
    "     \"z_0\",\"z_1\",\n",
    "     \"k_0\",\"k_1\",\n",
    "     \"u_0\",\"u_1\",\n",
    "     \"n_0\",\"n_1\"]\n",
    "\n",
    "indexs(names,var)"
   ]
  },
  {
   "cell_type": "code",
   "execution_count": null,
   "id": "direct-stream",
   "metadata": {},
   "outputs": [],
   "source": [
    "n=Tensor(\"n\",i_1,j_1)\n",
    "h_u_n = Tensor(\"h\",u_0)\n",
    "cris=1/2"
   ]
  },
  {
   "cell_type": "code",
   "execution_count": null,
   "id": "backed-gravity",
   "metadata": {},
   "outputs": [],
   "source": []
  },
  {
   "cell_type": "code",
   "execution_count": 2,
   "id": "coupled-desktop",
   "metadata": {},
   "outputs": [],
   "source": [
    "keys_list = [\"a\", \"b\"]\n",
    "values_list = [1]\n",
    "zip_iterator = zip(keys_list, values_list) \n",
    "a_dictionary = dict(zip_iterator) "
   ]
  },
  {
   "cell_type": "code",
   "execution_count": 3,
   "id": "after-easter",
   "metadata": {},
   "outputs": [
    {
     "data": {
      "text/plain": [
       "{'a': 1}"
      ]
     },
     "execution_count": 3,
     "metadata": {},
     "output_type": "execute_result"
    }
   ],
   "source": [
    "a_dictionary"
   ]
  },
  {
   "cell_type": "code",
   "execution_count": null,
   "id": "forward-north",
   "metadata": {},
   "outputs": [],
   "source": []
  },
  {
   "cell_type": "code",
   "execution_count": null,
   "id": "private-produce",
   "metadata": {},
   "outputs": [],
   "source": []
  },
  {
   "cell_type": "code",
   "execution_count": null,
   "id": "dressed-iceland",
   "metadata": {},
   "outputs": [],
   "source": []
  },
  {
   "cell_type": "code",
   "execution_count": null,
   "id": "processed-medline",
   "metadata": {},
   "outputs": [],
   "source": []
  }
 ],
 "metadata": {
  "kernelspec": {
   "display_name": "Python 3",
   "language": "python",
   "name": "python3"
  },
  "language_info": {
   "codemirror_mode": {
    "name": "ipython",
    "version": 3
   },
   "file_extension": ".py",
   "mimetype": "text/x-python",
   "name": "python",
   "nbconvert_exporter": "python",
   "pygments_lexer": "ipython3",
   "version": "3.8.3"
  }
 },
 "nbformat": 4,
 "nbformat_minor": 5
}
