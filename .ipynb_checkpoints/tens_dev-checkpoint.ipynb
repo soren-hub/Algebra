{
 "cells": [
  {
   "cell_type": "code",
   "execution_count": 1,
   "id": "powerful-appendix",
   "metadata": {
    "scrolled": true
   },
   "outputs": [],
   "source": [
    "from tensors import * "
   ]
  },
  {
   "cell_type": "code",
   "execution_count": 2,
   "id": "sharp-fireplace",
   "metadata": {},
   "outputs": [],
   "source": [
    "names=[(\"i\",0),(\"i\",1),(\"j\",0),(\"j\",1),(\"z\",0),(\"z\",1),(\"k\",1),(\"k\",0),(\"l\",0),(\"l\",1)]\n",
    "i_0,i_1,j_0,j_1,z_0,z_1,k_1,k_0,l_0,l_1=indexs(names)"
   ]
  },
  {
   "cell_type": "code",
   "execution_count": 3,
   "id": "freelance-threshold",
   "metadata": {},
   "outputs": [
    {
     "name": "stdout",
     "output_type": "stream",
     "text": [
      "True\n"
     ]
    }
   ],
   "source": [
    "i_0\n",
    "print(i_0==i_0)"
   ]
  },
  {
   "cell_type": "code",
   "execution_count": 4,
   "id": "surrounded-identification",
   "metadata": {},
   "outputs": [
    {
     "data": {
      "text/plain": [
       "Çi"
      ]
     },
     "execution_count": 4,
     "metadata": {},
     "output_type": "execute_result"
    }
   ],
   "source": [
    "i_2=ContractedIndex(\"i\",2)\n",
    "i_2"
   ]
  },
  {
   "cell_type": "code",
   "execution_count": 5,
   "id": "nominated-helen",
   "metadata": {},
   "outputs": [
    {
     "data": {
      "text/plain": [
       "x(Çv, Çv, _i)"
      ]
     },
     "execution_count": 5,
     "metadata": {},
     "output_type": "execute_result"
    }
   ],
   "source": [
    "#x = Tensor(\"x\",i_0,i_1,z_0,j_1,j_0)\n",
    "x = Tensor(\"x\",j_1,j_0,i_0)\n",
    "x"
   ]
  },
  {
   "cell_type": "code",
   "execution_count": 6,
   "id": "rental-latest",
   "metadata": {},
   "outputs": [
    {
     "data": {
      "text/plain": [
       "y(Çv, Çv)"
      ]
     },
     "execution_count": 6,
     "metadata": {},
     "output_type": "execute_result"
    }
   ],
   "source": [
    "y = Tensor(\"y\",i_0,i_1)\n",
    "y"
   ]
  },
  {
   "cell_type": "code",
   "execution_count": 22,
   "id": "olive-supervision",
   "metadata": {},
   "outputs": [],
   "source": [
    "xx=MultTensors(x,x)\n",
    "\n"
   ]
  },
  {
   "cell_type": "code",
   "execution_count": 28,
   "id": "french-timing",
   "metadata": {},
   "outputs": [
    {
     "name": "stdout",
     "output_type": "stream",
     "text": [
      "(Çv, Çv, _i, Çv, Çv, _i)\n"
     ]
    },
    {
     "ename": "TypeError",
     "evalue": "sort() takes no positional arguments",
     "output_type": "error",
     "traceback": [
      "\u001b[1;31m---------------------------------------------------------------------------\u001b[0m",
      "\u001b[1;31mTypeError\u001b[0m                                 Traceback (most recent call last)",
      "\u001b[1;32m<ipython-input-28-a1b3be441889>\u001b[0m in \u001b[0;36m<module>\u001b[1;34m\u001b[0m\n\u001b[0;32m      1\u001b[0m \u001b[0mprint\u001b[0m\u001b[1;33m(\u001b[0m\u001b[0mxx\u001b[0m\u001b[1;33m.\u001b[0m\u001b[0mget_indices\u001b[0m\u001b[1;33m(\u001b[0m\u001b[1;33m)\u001b[0m\u001b[1;33m)\u001b[0m\u001b[1;33m\u001b[0m\u001b[1;33m\u001b[0m\u001b[0m\n\u001b[1;32m----> 2\u001b[1;33m \u001b[0mprint\u001b[0m\u001b[1;33m(\u001b[0m\u001b[0mxx\u001b[0m\u001b[1;33m.\u001b[0m\u001b[0mposition_indices\u001b[0m\u001b[1;33m(\u001b[0m\u001b[1;33m)\u001b[0m\u001b[1;33m.\u001b[0m\u001b[0msort\u001b[0m\u001b[1;33m(\u001b[0m\u001b[1;32mlambda\u001b[0m \u001b[0mx\u001b[0m\u001b[1;33m:\u001b[0m \u001b[0mx\u001b[0m\u001b[1;33m[\u001b[0m\u001b[1;36m1\u001b[0m\u001b[1;33m]\u001b[0m\u001b[1;33m)\u001b[0m\u001b[1;33m)\u001b[0m\u001b[1;33m\u001b[0m\u001b[1;33m\u001b[0m\u001b[0m\n\u001b[0m\u001b[0;32m      3\u001b[0m \u001b[0mprint\u001b[0m\u001b[1;33m(\u001b[0m\u001b[0mxx\u001b[0m\u001b[1;33m.\u001b[0m\u001b[0m_quantity_ind_for_term\u001b[0m\u001b[1;33m(\u001b[0m\u001b[1;33m)\u001b[0m\u001b[1;33m)\u001b[0m\u001b[1;33m\u001b[0m\u001b[1;33m\u001b[0m\u001b[0m\n\u001b[0;32m      4\u001b[0m \u001b[0mprint\u001b[0m\u001b[1;33m(\u001b[0m\u001b[0mxx\u001b[0m\u001b[1;33m.\u001b[0m\u001b[0mget_args_tensors\u001b[0m\u001b[1;33m(\u001b[0m\u001b[1;33m)\u001b[0m\u001b[1;33m)\u001b[0m\u001b[1;33m\u001b[0m\u001b[1;33m\u001b[0m\u001b[0m\n",
      "\u001b[1;31mTypeError\u001b[0m: sort() takes no positional arguments"
     ]
    }
   ],
   "source": [
    "print(xx.get_indices())\n",
    "print(xx.position_indices().sort(key=lambda x: x[1]))\n",
    "print(xx._quantity_ind_for_term())\n",
    "print(xx.get_args_tensors())"
   ]
  },
  {
   "cell_type": "code",
   "execution_count": 8,
   "id": "attended-citation",
   "metadata": {},
   "outputs": [],
   "source": [
    "e1=MultTensors(y,MultTensors(x,x))\n"
   ]
  },
  {
   "cell_type": "code",
   "execution_count": 9,
   "id": "covered-grammar",
   "metadata": {
    "scrolled": true
   },
   "outputs": [
    {
     "data": {
      "text/plain": [
       "y(Çv, Çv)*x(Çv, Çv, _i)*x(Çv, Çv, _i)"
      ]
     },
     "execution_count": 9,
     "metadata": {},
     "output_type": "execute_result"
    }
   ],
   "source": [
    "e1"
   ]
  },
  {
   "cell_type": "code",
   "execution_count": 10,
   "id": "compound-bhutan",
   "metadata": {},
   "outputs": [],
   "source": [
    "e2=MultTensors(MultTensors(x,x),y)"
   ]
  },
  {
   "cell_type": "code",
   "execution_count": 11,
   "id": "extreme-belize",
   "metadata": {},
   "outputs": [
    {
     "name": "stdout",
     "output_type": "stream",
     "text": [
      "y(Çv, Çv)*x(Çv, Çv, _i)*x(Çv, Çv, _i) y(Çv, Çv)*x(Çv, Çv, _i)*x(Çv, Çv, _i)\n",
      "True\n"
     ]
    }
   ],
   "source": [
    "print(e1,e2)\n",
    "print(e1==e2)"
   ]
  },
  {
   "cell_type": "code",
   "execution_count": 12,
   "id": "precise-cisco",
   "metadata": {},
   "outputs": [],
   "source": [
    "#ScalPow(y,2)"
   ]
  },
  {
   "cell_type": "code",
   "execution_count": 13,
   "id": "divine-coordination",
   "metadata": {},
   "outputs": [],
   "source": [
    "e3=MultTensors(Tensor(\"R\",j_0,i_0),Tensor(\"R\",j_1,i_1))"
   ]
  },
  {
   "cell_type": "code",
   "execution_count": 14,
   "id": "productive-license",
   "metadata": {},
   "outputs": [
    {
     "data": {
      "text/plain": [
       "[(^i, 1), (_i, 3), (^j, 0), (_j, 2)]"
      ]
     },
     "execution_count": 14,
     "metadata": {},
     "output_type": "execute_result"
    }
   ],
   "source": [
    "e3.position_indices()"
   ]
  },
  {
   "cell_type": "code",
   "execution_count": 15,
   "id": "desperate-forth",
   "metadata": {},
   "outputs": [
    {
     "data": {
      "text/plain": [
       "True"
      ]
     },
     "execution_count": 15,
     "metadata": {},
     "output_type": "execute_result"
    }
   ],
   "source": [
    "MultTensors(x,Tensor(\"R\",j_0,i_0))==MultTensors(Tensor(\"R\",j_0,i_0),x)"
   ]
  },
  {
   "cell_type": "code",
   "execution_count": 16,
   "id": "arctic-vault",
   "metadata": {},
   "outputs": [],
   "source": [
    "from algebra import *\n"
   ]
  },
  {
   "cell_type": "code",
   "execution_count": 17,
   "id": "breathing-designer",
   "metadata": {},
   "outputs": [],
   "source": [
    "e4=MultTensors(Tensor(\"R\",j_0,i_0),Tensor(\"R\",j_1,i_1),y,Scalar(\"x\"),2,4)"
   ]
  },
  {
   "cell_type": "code",
   "execution_count": 18,
   "id": "vocational-holder",
   "metadata": {},
   "outputs": [
    {
     "data": {
      "text/plain": [
       "8*x*y(Çv, Çv)*R(^j, ^i)*R(_j, _i)"
      ]
     },
     "execution_count": 18,
     "metadata": {},
     "output_type": "execute_result"
    }
   ],
   "source": [
    "e4"
   ]
  },
  {
   "cell_type": "code",
   "execution_count": null,
   "id": "excessive-raise",
   "metadata": {},
   "outputs": [],
   "source": []
  },
  {
   "cell_type": "code",
   "execution_count": null,
   "id": "secondary-jordan",
   "metadata": {},
   "outputs": [],
   "source": []
  },
  {
   "cell_type": "code",
   "execution_count": 19,
   "id": "opened-sterling",
   "metadata": {},
   "outputs": [],
   "source": [
    "R =Tensor(\"R\",j_0,i_0)"
   ]
  },
  {
   "cell_type": "code",
   "execution_count": 20,
   "id": "medieval-generation",
   "metadata": {},
   "outputs": [
    {
     "data": {
      "text/plain": [
       "R(_j, _i)"
      ]
     },
     "execution_count": 20,
     "metadata": {},
     "output_type": "execute_result"
    }
   ],
   "source": [
    "R"
   ]
  },
  {
   "cell_type": "code",
   "execution_count": null,
   "id": "macro-italian",
   "metadata": {},
   "outputs": [],
   "source": []
  },
  {
   "cell_type": "code",
   "execution_count": null,
   "id": "digital-syndicate",
   "metadata": {},
   "outputs": [],
   "source": []
  },
  {
   "cell_type": "code",
   "execution_count": null,
   "id": "hearing-elephant",
   "metadata": {},
   "outputs": [],
   "source": []
  },
  {
   "cell_type": "code",
   "execution_count": null,
   "id": "bizarre-spray",
   "metadata": {},
   "outputs": [],
   "source": []
  },
  {
   "cell_type": "code",
   "execution_count": null,
   "id": "beneficial-fifth",
   "metadata": {},
   "outputs": [],
   "source": []
  }
 ],
 "metadata": {
  "kernelspec": {
   "display_name": "Python 3",
   "language": "python",
   "name": "python3"
  },
  "language_info": {
   "codemirror_mode": {
    "name": "ipython",
    "version": 3
   },
   "file_extension": ".py",
   "mimetype": "text/x-python",
   "name": "python",
   "nbconvert_exporter": "python",
   "pygments_lexer": "ipython3",
   "version": "3.8.3"
  }
 },
 "nbformat": 4,
 "nbformat_minor": 5
}
