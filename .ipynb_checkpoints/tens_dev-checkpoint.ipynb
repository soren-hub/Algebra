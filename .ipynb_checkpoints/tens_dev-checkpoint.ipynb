{
 "cells": [
  {
   "cell_type": "code",
   "execution_count": 1,
   "id": "powerful-appendix",
   "metadata": {
    "scrolled": true
   },
   "outputs": [],
   "source": [
    "from tensors import * "
   ]
  },
  {
   "cell_type": "code",
   "execution_count": 2,
   "id": "sharp-fireplace",
   "metadata": {},
   "outputs": [],
   "source": [
    "names=[(\"i\",0),(\"i\",1),(\"j\",0),(\"j\",1),(\"z\",0),(\"z\",1),(\"k\",1),(\"k\",0),(\"l\",0),(\"l\",1)]\n",
    "i_0,i_1,j_0,j_1,z_0,z_1,k_1,k_0,l_0,l_1=indexs(names)"
   ]
  },
  {
   "cell_type": "code",
   "execution_count": 3,
   "id": "freelance-threshold",
   "metadata": {},
   "outputs": [
    {
     "name": "stdout",
     "output_type": "stream",
     "text": [
      "True\n"
     ]
    }
   ],
   "source": [
    "i_0\n",
    "print(i_0==i_0)"
   ]
  },
  {
   "cell_type": "code",
   "execution_count": 4,
   "id": "surrounded-identification",
   "metadata": {},
   "outputs": [
    {
     "data": {
      "text/plain": [
       "Çi"
      ]
     },
     "execution_count": 4,
     "metadata": {},
     "output_type": "execute_result"
    }
   ],
   "source": [
    "i_2=ContractedIndex(\"i\",2)\n",
    "i_2"
   ]
  },
  {
   "cell_type": "code",
   "execution_count": 5,
   "id": "nominated-helen",
   "metadata": {},
   "outputs": [
    {
     "data": {
      "text/plain": [
       "x(Çe, Çe, _i)"
      ]
     },
     "execution_count": 5,
     "metadata": {},
     "output_type": "execute_result"
    }
   ],
   "source": [
    "#x = Tensor(\"x\",i_0,i_1,z_0,j_1,j_0)\n",
    "x = Tensor(\"x\",j_1,j_0,i_0)\n",
    "x"
   ]
  },
  {
   "cell_type": "code",
   "execution_count": 6,
   "id": "rental-latest",
   "metadata": {},
   "outputs": [
    {
     "data": {
      "text/plain": [
       "y(Çe, Çe)"
      ]
     },
     "execution_count": 6,
     "metadata": {},
     "output_type": "execute_result"
    }
   ],
   "source": [
    "y = Tensor(\"y\",i_0,i_1)\n",
    "y"
   ]
  },
  {
   "cell_type": "code",
   "execution_count": 7,
   "id": "attended-citation",
   "metadata": {},
   "outputs": [],
   "source": [
    "e1=MultTensors(y,MultTensors(x,x))\n"
   ]
  },
  {
   "cell_type": "code",
   "execution_count": 8,
   "id": "numerical-compound",
   "metadata": {
    "scrolled": true
   },
   "outputs": [
    {
     "data": {
      "text/plain": [
       "x(Çe, Çe, _i)*y(Çe, Çe)"
      ]
     },
     "execution_count": 8,
     "metadata": {},
     "output_type": "execute_result"
    }
   ],
   "source": [
    "e1"
   ]
  },
  {
   "cell_type": "code",
   "execution_count": 9,
   "id": "macro-organ",
   "metadata": {},
   "outputs": [],
   "source": [
    "e2=MultTensors(MultTensors(x,x),y)"
   ]
  },
  {
   "cell_type": "code",
   "execution_count": 10,
   "id": "charming-section",
   "metadata": {},
   "outputs": [
    {
     "name": "stdout",
     "output_type": "stream",
     "text": [
      "x(Çe, Çe, _i)*y(Çe, Çe) x(Çe, Çe, _i)*y(Çe, Çe)\n",
      "True\n"
     ]
    }
   ],
   "source": [
    "print(e1,e2)\n",
    "print(e1==e2)"
   ]
  },
  {
   "cell_type": "code",
   "execution_count": 11,
   "id": "precise-cisco",
   "metadata": {},
   "outputs": [],
   "source": [
    "#ScalPow(y,2)"
   ]
  },
  {
   "cell_type": "code",
   "execution_count": 12,
   "id": "divine-coordination",
   "metadata": {},
   "outputs": [],
   "source": [
    "e3=MultTensors(Tensor(\"R\",j_0,i_0),Tensor(\"R\",j_1,i_1))"
   ]
  },
  {
   "cell_type": "code",
   "execution_count": 13,
   "id": "structural-pressure",
   "metadata": {},
   "outputs": [
    {
     "data": {
      "text/plain": [
       "R(^j, ^i)*R(_j, _i)"
      ]
     },
     "execution_count": 13,
     "metadata": {},
     "output_type": "execute_result"
    }
   ],
   "source": [
    "e3"
   ]
  },
  {
   "cell_type": "code",
   "execution_count": 14,
   "id": "serial-reset",
   "metadata": {},
   "outputs": [
    {
     "data": {
      "text/plain": [
       "True"
      ]
     },
     "execution_count": 14,
     "metadata": {},
     "output_type": "execute_result"
    }
   ],
   "source": [
    "MultTensors(x,Tensor(\"R\",j_0,i_0))==MultTensors(Tensor(\"R\",j_0,i_0),x)"
   ]
  },
  {
   "cell_type": "code",
   "execution_count": 15,
   "id": "domestic-boards",
   "metadata": {},
   "outputs": [],
   "source": [
    "from algebra import *\n"
   ]
  },
  {
   "cell_type": "code",
   "execution_count": 16,
   "id": "maritime-topic",
   "metadata": {},
   "outputs": [],
   "source": [
    "e4=MultTensors(Tensor(\"R\",j_0,i_0),Tensor(\"R\",j_1,i_1),y,Scalar(\"x\"),2,4)"
   ]
  },
  {
   "cell_type": "code",
   "execution_count": 17,
   "id": "dimensional-narrative",
   "metadata": {},
   "outputs": [
    {
     "data": {
      "text/plain": [
       "(8, R(^j, ^i), x, y(Çe, Çe), R(_j, _i))"
      ]
     },
     "execution_count": 17,
     "metadata": {},
     "output_type": "execute_result"
    }
   ],
   "source": [
    "e4.args"
   ]
  },
  {
   "cell_type": "code",
   "execution_count": null,
   "id": "serious-empire",
   "metadata": {},
   "outputs": [],
   "source": []
  },
  {
   "cell_type": "code",
   "execution_count": 18,
   "id": "macro-massachusetts",
   "metadata": {},
   "outputs": [
    {
     "data": {
      "text/plain": [
       "(8, R(^j, ^i), x, y(Çe, Çe), R(_j, _i))"
      ]
     },
     "execution_count": 18,
     "metadata": {},
     "output_type": "execute_result"
    }
   ],
   "source": [
    "e4.get_args_scalar()"
   ]
  },
  {
   "cell_type": "code",
   "execution_count": null,
   "id": "textile-expert",
   "metadata": {},
   "outputs": [],
   "source": []
  },
  {
   "cell_type": "code",
   "execution_count": null,
   "id": "honey-execution",
   "metadata": {},
   "outputs": [],
   "source": []
  }
 ],
 "metadata": {
  "kernelspec": {
   "display_name": "Python 3",
   "language": "python",
   "name": "python3"
  },
  "language_info": {
   "codemirror_mode": {
    "name": "ipython",
    "version": 3
   },
   "file_extension": ".py",
   "mimetype": "text/x-python",
   "name": "python",
   "nbconvert_exporter": "python",
   "pygments_lexer": "ipython3",
   "version": "3.8.3"
  }
 },
 "nbformat": 4,
 "nbformat_minor": 5
}
