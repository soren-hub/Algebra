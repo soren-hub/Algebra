{
 "cells": [
  {
   "cell_type": "code",
   "execution_count": 23,
   "id": "powerful-appendix",
   "metadata": {
    "scrolled": true
   },
   "outputs": [],
   "source": [
    "from tensors import * "
   ]
  },
  {
   "cell_type": "code",
   "execution_count": 24,
   "id": "sharp-fireplace",
   "metadata": {},
   "outputs": [],
   "source": [
    "names=[(\"i\",0),(\"i\",1),(\"j\",0),(\"j\",1),(\"z\",0),(\"z\",1),(\"k\",1),(\"k\",0),(\"l\",0),(\"l\",1)]\n",
    "i_0,i_1,j_0,j_1,z_0,z_1,k_1,k_0,l_0,l_1=indexs(names)"
   ]
  },
  {
   "cell_type": "code",
   "execution_count": 25,
   "id": "freelance-threshold",
   "metadata": {},
   "outputs": [],
   "source": [
    "#i_0\n",
    "#print(i_0==i_0)"
   ]
  },
  {
   "cell_type": "code",
   "execution_count": 26,
   "id": "surrounded-identification",
   "metadata": {},
   "outputs": [],
   "source": [
    "#i_2=ContractedIndex(\"i\",2)\n",
    "#i_2"
   ]
  },
  {
   "cell_type": "code",
   "execution_count": 27,
   "id": "nominated-helen",
   "metadata": {},
   "outputs": [],
   "source": [
    "#x = Tensor(\"x\",i_0,i_1,z_0,j_1,j_0)\n",
    "#x = Tensor(\"x\",j_1,j_0,i_0)\n",
    "#x"
   ]
  },
  {
   "cell_type": "code",
   "execution_count": 28,
   "id": "rental-latest",
   "metadata": {},
   "outputs": [],
   "source": [
    "#y = Tensor(\"y\",i_0,i_1)\n",
    "#y"
   ]
  },
  {
   "cell_type": "code",
   "execution_count": 29,
   "id": "antique-update",
   "metadata": {},
   "outputs": [],
   "source": [
    "#xx=MultTensors(x,x)\n",
    "\n"
   ]
  },
  {
   "cell_type": "code",
   "execution_count": 30,
   "id": "absent-ethernet",
   "metadata": {},
   "outputs": [],
   "source": [
    "#print(xx.get_indices())\n",
    "#print(sorted(xx.position_indices(),key=lambda x: x[1]))\n",
    "\n",
    "#print(xx.get_args_tensors())"
   ]
  },
  {
   "cell_type": "code",
   "execution_count": 31,
   "id": "attended-citation",
   "metadata": {},
   "outputs": [],
   "source": [
    "#e1=MultTensors(y,MultTensors(x,x))\n"
   ]
  },
  {
   "cell_type": "code",
   "execution_count": 38,
   "id": "configured-northwest",
   "metadata": {
    "scrolled": true
   },
   "outputs": [],
   "source": [
    "#e1"
   ]
  },
  {
   "cell_type": "code",
   "execution_count": 39,
   "id": "portable-coupon",
   "metadata": {},
   "outputs": [],
   "source": [
    "#e2=MultTensors(MultTensors(x,x),y)"
   ]
  },
  {
   "cell_type": "code",
   "execution_count": 40,
   "id": "green-parts",
   "metadata": {},
   "outputs": [],
   "source": [
    "#print(e1==e2)"
   ]
  },
  {
   "cell_type": "code",
   "execution_count": 41,
   "id": "precise-cisco",
   "metadata": {},
   "outputs": [],
   "source": [
    "#ScalPow(y,2)"
   ]
  },
  {
   "cell_type": "code",
   "execution_count": 42,
   "id": "divine-coordination",
   "metadata": {},
   "outputs": [],
   "source": [
    "#e3=MultTensors(Tensor(\"R\",j_0,i_0),Tensor(\"R\",j_1,i_1))"
   ]
  },
  {
   "cell_type": "code",
   "execution_count": 43,
   "id": "signed-taxation",
   "metadata": {},
   "outputs": [],
   "source": [
    "#e3#problema para arreglar despues "
   ]
  },
  {
   "cell_type": "code",
   "execution_count": 44,
   "id": "ultimate-provincial",
   "metadata": {
    "scrolled": true
   },
   "outputs": [],
   "source": [
    "#MultTensors(x,Tensor(\"R\",j_0,i_0))==MultTensors(Tensor(\"R\",j_0,i_0),x)"
   ]
  },
  {
   "cell_type": "code",
   "execution_count": 45,
   "id": "convinced-resident",
   "metadata": {},
   "outputs": [],
   "source": [
    "#e4=MultTensors(Tensor(\"R\",j_0,i_0),Tensor(\"R\",j_1,i_1),y,Scalar(\"x\"),2,4)"
   ]
  },
  {
   "cell_type": "code",
   "execution_count": 46,
   "id": "brave-obligation",
   "metadata": {},
   "outputs": [],
   "source": [
    "#e4"
   ]
  },
  {
   "cell_type": "code",
   "execution_count": 47,
   "id": "junior-observer",
   "metadata": {},
   "outputs": [],
   "source": [
    "#e5=MultTensors(Tensor(\"R\",j_0,i_0),Tensor(\"R\",j_1,i_1))"
   ]
  },
  {
   "cell_type": "code",
   "execution_count": 48,
   "id": "pleased-berlin",
   "metadata": {},
   "outputs": [],
   "source": [
    "#e5"
   ]
  },
  {
   "cell_type": "code",
   "execution_count": null,
   "id": "encouraging-lesbian",
   "metadata": {},
   "outputs": [],
   "source": []
  },
  {
   "cell_type": "code",
   "execution_count": null,
   "id": "likely-substitute",
   "metadata": {},
   "outputs": [],
   "source": []
  },
  {
   "cell_type": "code",
   "execution_count": null,
   "id": "available-seafood",
   "metadata": {},
   "outputs": [],
   "source": []
  },
  {
   "cell_type": "code",
   "execution_count": null,
   "id": "loaded-leisure",
   "metadata": {},
   "outputs": [],
   "source": []
  },
  {
   "cell_type": "code",
   "execution_count": null,
   "id": "direct-stream",
   "metadata": {},
   "outputs": [],
   "source": []
  },
  {
   "cell_type": "code",
   "execution_count": null,
   "id": "backed-gravity",
   "metadata": {},
   "outputs": [],
   "source": []
  },
  {
   "cell_type": "code",
   "execution_count": null,
   "id": "coupled-desktop",
   "metadata": {},
   "outputs": [],
   "source": []
  }
 ],
 "metadata": {
  "kernelspec": {
   "display_name": "Python 3",
   "language": "python",
   "name": "python3"
  },
  "language_info": {
   "codemirror_mode": {
    "name": "ipython",
    "version": 3
   },
   "file_extension": ".py",
   "mimetype": "text/x-python",
   "name": "python",
   "nbconvert_exporter": "python",
   "pygments_lexer": "ipython3",
   "version": "3.8.3"
  }
 },
 "nbformat": 4,
 "nbformat_minor": 5
}
