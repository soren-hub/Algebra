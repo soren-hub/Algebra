{
 "cells": [
  {
   "cell_type": "code",
   "execution_count": 1,
   "id": "powerful-appendix",
   "metadata": {
    "scrolled": true
   },
   "outputs": [],
   "source": [
    "from tensors import * "
   ]
  },
  {
   "cell_type": "code",
   "execution_count": 2,
   "id": "sharp-fireplace",
   "metadata": {},
   "outputs": [],
   "source": [
    "names=[(\"i\",0),(\"i\",1),(\"j\",0),(\"j\",1),(\"z\",0),(\"z\",1),(\"k\",1),(\"k\",0),(\"l\",0),(\"l\",1)]\n",
    "i_0,i_1,j_0,j_1,z_0,z_1,k_1,k_0,l_0,l_1=indexs(names)"
   ]
  },
  {
   "cell_type": "code",
   "execution_count": 3,
   "id": "freelance-threshold",
   "metadata": {},
   "outputs": [
    {
     "name": "stdout",
     "output_type": "stream",
     "text": [
      "True\n"
     ]
    }
   ],
   "source": [
    "i_0\n",
    "print(i_0==i_0)"
   ]
  },
  {
   "cell_type": "code",
   "execution_count": 4,
   "id": "surrounded-identification",
   "metadata": {},
   "outputs": [
    {
     "data": {
      "text/plain": [
       "Çi"
      ]
     },
     "execution_count": 4,
     "metadata": {},
     "output_type": "execute_result"
    }
   ],
   "source": [
    "i_2=ContractedIndex(\"i\",2)\n",
    "i_2"
   ]
  },
  {
   "cell_type": "code",
   "execution_count": 5,
   "id": "nominated-helen",
   "metadata": {},
   "outputs": [
    {
     "name": "stdout",
     "output_type": "stream",
     "text": [
      "0 [(0, 3)] 0 ^j (^j, _j, _i) 2 a\n",
      "(0, 3) b\n",
      "[(^j, 0, 0)] c\n",
      "1 [(0, 3)] 0 _j (^j, _j, _i) 1 a\n",
      "(0, 3) b\n",
      "[(^j, 0, 0), (_j, 1, 0)] c\n",
      "2 [(0, 3)] 0 _i (^j, _j, _i) 0 a\n",
      "(0, 3) b\n",
      "[(^j, 0, 0), (_j, 1, 0), (_i, 2, 0)] c\n",
      "[(_i, 2, 0), (^j, 0, 0), (_j, 1, 0)] d\n",
      "0 [(0, 3)] 0 ^j (^j, _j, _i) 2 a\n",
      "(0, 3) b\n",
      "[(^j, 0, 0)] c\n",
      "1 [(0, 3)] 0 _j (^j, _j, _i) 1 a\n",
      "(0, 3) b\n",
      "[(^j, 0, 0), (_j, 1, 0)] c\n",
      "2 [(0, 3)] 0 _i (^j, _j, _i) 0 a\n",
      "(0, 3) b\n",
      "[(^j, 0, 0), (_j, 1, 0), (_i, 2, 0)] c\n",
      "[(_i, 2, 0), (^j, 0, 0), (_j, 1, 0)] d\n",
      "[(Çb, 0), (Çb, 1), (_i, 2, 0)]\n"
     ]
    },
    {
     "data": {
      "text/plain": [
       "x(Çb, Çb, _i)"
      ]
     },
     "execution_count": 5,
     "metadata": {},
     "output_type": "execute_result"
    }
   ],
   "source": [
    "#x = Tensor(\"x\",i_0,i_1,z_0,j_1,j_0)\n",
    "x = Tensor(\"x\",j_1,j_0,i_0)\n",
    "x"
   ]
  },
  {
   "cell_type": "code",
   "execution_count": 6,
   "id": "rental-latest",
   "metadata": {},
   "outputs": [
    {
     "name": "stdout",
     "output_type": "stream",
     "text": [
      "0 [(0, 2)] 0 _i (_i, ^i) 1 a\n",
      "(0, 2) b\n",
      "[(_i, 0, 0)] c\n",
      "1 [(0, 2)] 0 ^i (_i, ^i) 0 a\n",
      "(0, 2) b\n",
      "[(_i, 0, 0), (^i, 1, 0)] c\n",
      "[(_i, 0, 0), (^i, 1, 0)] d\n",
      "0 [(0, 2)] 0 _i (_i, ^i) 1 a\n",
      "(0, 2) b\n",
      "[(_i, 0, 0)] c\n",
      "1 [(0, 2)] 0 ^i (_i, ^i) 0 a\n",
      "(0, 2) b\n",
      "[(_i, 0, 0), (^i, 1, 0)] c\n",
      "[(_i, 0, 0), (^i, 1, 0)] d\n",
      "[(Çx, 0), (Çx, 1)]\n"
     ]
    },
    {
     "data": {
      "text/plain": [
       "y(Çx, Çx)"
      ]
     },
     "execution_count": 6,
     "metadata": {},
     "output_type": "execute_result"
    }
   ],
   "source": [
    "y = Tensor(\"y\",i_0,i_1)\n",
    "y"
   ]
  },
  {
   "cell_type": "code",
   "execution_count": 8,
   "id": "standing-shanghai",
   "metadata": {},
   "outputs": [
    {
     "name": "stdout",
     "output_type": "stream",
     "text": [
      "0 [(0, 3), (1, 3)] 0 Çb (Çb, Çb, _i, Çb, Çb, _i) 2 a\n",
      "(0, 3) b\n",
      "[(Çb, 0, 0)] c\n",
      "1 [(0, 3), (1, 3)] 0 Çb (Çb, Çb, _i, Çb, Çb, _i) 1 a\n",
      "(0, 3) b\n",
      "[(Çb, 0, 0), (Çb, 1, 0)] c\n",
      "2 [(0, 3), (1, 3)] 0 _i (Çb, Çb, _i, Çb, Çb, _i) 0 a\n",
      "(0, 3) b\n",
      "[(Çb, 0, 0), (Çb, 1, 0), (_i, 2, 0)] c\n",
      "3 [(0, 3), (1, 3)] 1 Çb (Çb, Çb, _i, Çb, Çb, _i) -1 a\n",
      "(1, 3) b\n",
      "[(Çb, 0, 0), (Çb, 1, 0), (_i, 2, 0), (Çb, 3, 1)] c\n",
      "4 [(0, 3), (1, 3)] 1 Çb (Çb, Çb, _i, Çb, Çb, _i) -2 a\n",
      "(1, 3) b\n",
      "[(Çb, 0, 0), (Çb, 1, 0), (_i, 2, 0), (Çb, 3, 1), (Çb, 4, 1)] c\n",
      "5 [(0, 3), (1, 3)] 1 _i (Çb, Çb, _i, Çb, Çb, _i) -3 a\n",
      "(1, 3) b\n",
      "[(Çb, 0, 0), (Çb, 1, 0), (_i, 2, 0), (Çb, 3, 1), (Çb, 4, 1), (_i, 5, 1)] c\n",
      "[(Çb, 0, 0), (Çb, 1, 0), (Çb, 3, 1), (Çb, 4, 1), (_i, 2, 0), (_i, 5, 1)] d\n",
      "0 [(0, 3), (1, 3)] 0 Çb (Çb, Çb, _i, Çb, Çb, _i) 2 a\n",
      "(0, 3) b\n",
      "[(Çb, 0, 0)] c\n",
      "1 [(0, 3), (1, 3)] 0 Çb (Çb, Çb, _i, Çb, Çb, _i) 1 a\n",
      "(0, 3) b\n",
      "[(Çb, 0, 0), (Çb, 1, 0)] c\n",
      "2 [(0, 3), (1, 3)] 0 _i (Çb, Çb, _i, Çb, Çb, _i) 0 a\n",
      "(0, 3) b\n",
      "[(Çb, 0, 0), (Çb, 1, 0), (_i, 2, 0)] c\n",
      "3 [(0, 3), (1, 3)] 1 Çb (Çb, Çb, _i, Çb, Çb, _i) -1 a\n",
      "(1, 3) b\n",
      "[(Çb, 0, 0), (Çb, 1, 0), (_i, 2, 0), (Çb, 3, 1)] c\n",
      "4 [(0, 3), (1, 3)] 1 Çb (Çb, Çb, _i, Çb, Çb, _i) -2 a\n",
      "(1, 3) b\n",
      "[(Çb, 0, 0), (Çb, 1, 0), (_i, 2, 0), (Çb, 3, 1), (Çb, 4, 1)] c\n",
      "5 [(0, 3), (1, 3)] 1 _i (Çb, Çb, _i, Çb, Çb, _i) -3 a\n",
      "(1, 3) b\n",
      "[(Çb, 0, 0), (Çb, 1, 0), (_i, 2, 0), (Çb, 3, 1), (Çb, 4, 1), (_i, 5, 1)] c\n",
      "[(Çb, 0, 0), (Çb, 1, 0), (Çb, 3, 1), (Çb, 4, 1), (_i, 2, 0), (_i, 5, 1)] d\n",
      "[(Çb, 0, 0), (Çb, 1, 0), (_i, 2, 0), (Çb, 3, 1), (Çb, 4, 1), (_i, 5, 1)]\n"
     ]
    },
    {
     "data": {
      "text/plain": [
       "x(Çb, Çb, _i)"
      ]
     },
     "execution_count": 8,
     "metadata": {},
     "output_type": "execute_result"
    }
   ],
   "source": [
    "MultTensors(x,x)\n",
    "#esta  haciendo mal la mult \n"
   ]
  },
  {
   "cell_type": "code",
   "execution_count": 7,
   "id": "attended-citation",
   "metadata": {},
   "outputs": [
    {
     "name": "stdout",
     "output_type": "stream",
     "text": [
      "0 [(0, 3), (1, 3)] 0 Çb (Çb, Çb, _i, Çb, Çb, _i) 2 a\n",
      "(0, 3) b\n",
      "[(Çb, 0, 0)] c\n",
      "1 [(0, 3), (1, 3)] 0 Çb (Çb, Çb, _i, Çb, Çb, _i) 1 a\n",
      "(0, 3) b\n",
      "[(Çb, 0, 0), (Çb, 1, 0)] c\n",
      "2 [(0, 3), (1, 3)] 0 _i (Çb, Çb, _i, Çb, Çb, _i) 0 a\n",
      "(0, 3) b\n",
      "[(Çb, 0, 0), (Çb, 1, 0), (_i, 2, 0)] c\n",
      "3 [(0, 3), (1, 3)] 1 Çb (Çb, Çb, _i, Çb, Çb, _i) -1 a\n",
      "(1, 3) b\n",
      "[(Çb, 0, 0), (Çb, 1, 0), (_i, 2, 0), (Çb, 3, 1)] c\n",
      "4 [(0, 3), (1, 3)] 1 Çb (Çb, Çb, _i, Çb, Çb, _i) -2 a\n",
      "(1, 3) b\n",
      "[(Çb, 0, 0), (Çb, 1, 0), (_i, 2, 0), (Çb, 3, 1), (Çb, 4, 1)] c\n",
      "5 [(0, 3), (1, 3)] 1 _i (Çb, Çb, _i, Çb, Çb, _i) -3 a\n",
      "(1, 3) b\n",
      "[(Çb, 0, 0), (Çb, 1, 0), (_i, 2, 0), (Çb, 3, 1), (Çb, 4, 1), (_i, 5, 1)] c\n",
      "[(Çb, 0, 0), (Çb, 1, 0), (Çb, 3, 1), (Çb, 4, 1), (_i, 2, 0), (_i, 5, 1)] d\n",
      "0 [(0, 3), (1, 3)] 0 Çb (Çb, Çb, _i, Çb, Çb, _i) 2 a\n",
      "(0, 3) b\n",
      "[(Çb, 0, 0)] c\n",
      "1 [(0, 3), (1, 3)] 0 Çb (Çb, Çb, _i, Çb, Çb, _i) 1 a\n",
      "(0, 3) b\n",
      "[(Çb, 0, 0), (Çb, 1, 0)] c\n",
      "2 [(0, 3), (1, 3)] 0 _i (Çb, Çb, _i, Çb, Çb, _i) 0 a\n",
      "(0, 3) b\n",
      "[(Çb, 0, 0), (Çb, 1, 0), (_i, 2, 0)] c\n",
      "3 [(0, 3), (1, 3)] 1 Çb (Çb, Çb, _i, Çb, Çb, _i) -1 a\n",
      "(1, 3) b\n",
      "[(Çb, 0, 0), (Çb, 1, 0), (_i, 2, 0), (Çb, 3, 1)] c\n",
      "4 [(0, 3), (1, 3)] 1 Çb (Çb, Çb, _i, Çb, Çb, _i) -2 a\n",
      "(1, 3) b\n",
      "[(Çb, 0, 0), (Çb, 1, 0), (_i, 2, 0), (Çb, 3, 1), (Çb, 4, 1)] c\n",
      "5 [(0, 3), (1, 3)] 1 _i (Çb, Çb, _i, Çb, Çb, _i) -3 a\n",
      "(1, 3) b\n",
      "[(Çb, 0, 0), (Çb, 1, 0), (_i, 2, 0), (Çb, 3, 1), (Çb, 4, 1), (_i, 5, 1)] c\n",
      "[(Çb, 0, 0), (Çb, 1, 0), (Çb, 3, 1), (Çb, 4, 1), (_i, 2, 0), (_i, 5, 1)] d\n",
      "[(Çb, 0, 0), (Çb, 1, 0), (_i, 2, 0), (Çb, 3, 1), (Çb, 4, 1), (_i, 5, 1)]\n",
      "0 [(0, 2), (1, 3)] 0 Çx (Çx, Çx, Çb, Çb, _i) 1 a\n",
      "(0, 2) b\n",
      "[(Çx, 0, 0)] c\n",
      "1 [(0, 2), (1, 3)] 0 Çx (Çx, Çx, Çb, Çb, _i) 0 a\n",
      "(0, 2) b\n",
      "[(Çx, 0, 0), (Çx, 1, 0)] c\n",
      "2 [(0, 2), (1, 3)] 1 Çb (Çx, Çx, Çb, Çb, _i) 0 a\n",
      "(1, 3) b\n",
      "[(Çx, 0, 0), (Çx, 1, 0), (Çb, 2, 1)] c\n"
     ]
    },
    {
     "ename": "IndexError",
     "evalue": "list index out of range",
     "output_type": "error",
     "traceback": [
      "\u001b[1;31m---------------------------------------------------------------------------\u001b[0m",
      "\u001b[1;31mIndexError\u001b[0m                                Traceback (most recent call last)",
      "\u001b[1;32m<ipython-input-7-5d33f1658dae>\u001b[0m in \u001b[0;36m<module>\u001b[1;34m\u001b[0m\n\u001b[1;32m----> 1\u001b[1;33m \u001b[0me1\u001b[0m\u001b[1;33m=\u001b[0m\u001b[0mMultTensors\u001b[0m\u001b[1;33m(\u001b[0m\u001b[0my\u001b[0m\u001b[1;33m,\u001b[0m\u001b[0mMultTensors\u001b[0m\u001b[1;33m(\u001b[0m\u001b[0mx\u001b[0m\u001b[1;33m,\u001b[0m\u001b[0mx\u001b[0m\u001b[1;33m)\u001b[0m\u001b[1;33m)\u001b[0m\u001b[1;33m\u001b[0m\u001b[1;33m\u001b[0m\u001b[0m\n\u001b[0m",
      "\u001b[1;32m~\\Documents\\GitHub\\Algebra\\tensors.py\u001b[0m in \u001b[0;36m__new__\u001b[1;34m(cls, *args)\u001b[0m\n\u001b[0;32m    307\u001b[0m         \u001b[1;32mif\u001b[0m \u001b[0minstance\u001b[0m\u001b[1;33m.\u001b[0m\u001b[0mis_null\u001b[0m\u001b[1;33m(\u001b[0m\u001b[1;33m)\u001b[0m\u001b[1;33m:\u001b[0m\u001b[1;33m\u001b[0m\u001b[1;33m\u001b[0m\u001b[0m\n\u001b[0;32m    308\u001b[0m             \u001b[1;32mreturn\u001b[0m \u001b[1;36m0\u001b[0m\u001b[1;33m\u001b[0m\u001b[1;33m\u001b[0m\u001b[0m\n\u001b[1;32m--> 309\u001b[1;33m         \u001b[0minstance\u001b[0m\u001b[1;33m.\u001b[0m\u001b[0mcontraction\u001b[0m\u001b[1;33m(\u001b[0m\u001b[0mmult_tensor\u001b[0m\u001b[1;33m=\u001b[0m\u001b[1;32mTrue\u001b[0m\u001b[1;33m)\u001b[0m\u001b[1;33m\u001b[0m\u001b[1;33m\u001b[0m\u001b[0m\n\u001b[0m\u001b[0;32m    310\u001b[0m         instance.simplify(ScalPow, lambda a, b: a + b,\n\u001b[0;32m    311\u001b[0m                                 instance._separate_exp,tensors=True)\n",
      "\u001b[1;32m~\\Documents\\GitHub\\Algebra\\tensors.py\u001b[0m in \u001b[0;36mcontraction\u001b[1;34m(self, mult_tensor)\u001b[0m\n\u001b[0;32m    195\u001b[0m \u001b[1;33m\u001b[0m\u001b[0m\n\u001b[0;32m    196\u001b[0m     \u001b[1;32mdef\u001b[0m \u001b[0mcontraction\u001b[0m\u001b[1;33m(\u001b[0m\u001b[0mself\u001b[0m\u001b[1;33m,\u001b[0m\u001b[0mmult_tensor\u001b[0m\u001b[1;33m=\u001b[0m\u001b[1;32mFalse\u001b[0m\u001b[1;33m)\u001b[0m\u001b[1;33m:\u001b[0m\u001b[1;33m\u001b[0m\u001b[1;33m\u001b[0m\u001b[0m\n\u001b[1;32m--> 197\u001b[1;33m         \u001b[0minds_pos\u001b[0m \u001b[1;33m=\u001b[0m \u001b[0mself\u001b[0m\u001b[1;33m.\u001b[0m\u001b[0m_position_indices\u001b[0m\u001b[1;33m(\u001b[0m\u001b[0mnotfree\u001b[0m\u001b[1;33m=\u001b[0m\u001b[1;32mTrue\u001b[0m\u001b[1;33m)\u001b[0m\u001b[1;33m\u001b[0m\u001b[1;33m\u001b[0m\u001b[0m\n\u001b[0m\u001b[0;32m    198\u001b[0m         \u001b[0mavailable\u001b[0m \u001b[1;33m=\u001b[0m \u001b[0mself\u001b[0m\u001b[1;33m.\u001b[0m\u001b[0mletters_available\u001b[0m\u001b[1;33m(\u001b[0m\u001b[1;33m)\u001b[0m\u001b[1;33m\u001b[0m\u001b[1;33m\u001b[0m\u001b[0m\n\u001b[0;32m    199\u001b[0m         \u001b[0mordered\u001b[0m \u001b[1;33m=\u001b[0m \u001b[1;33m[\u001b[0m\u001b[1;33m]\u001b[0m\u001b[1;33m\u001b[0m\u001b[1;33m\u001b[0m\u001b[0m\n",
      "\u001b[1;32m~\\Documents\\GitHub\\Algebra\\tensors.py\u001b[0m in \u001b[0;36m_position_indices\u001b[1;34m(self, notfree, free, mult_tensor)\u001b[0m\n\u001b[0;32m    176\u001b[0m         \u001b[0mcount\u001b[0m \u001b[1;33m=\u001b[0m \u001b[1;36m0\u001b[0m\u001b[1;33m\u001b[0m\u001b[1;33m\u001b[0m\u001b[0m\n\u001b[0;32m    177\u001b[0m         \u001b[1;32mfor\u001b[0m \u001b[0mi\u001b[0m \u001b[1;32min\u001b[0m \u001b[0mrange\u001b[0m\u001b[1;33m(\u001b[0m\u001b[0mlen\u001b[0m\u001b[1;33m(\u001b[0m\u001b[0minds\u001b[0m\u001b[1;33m)\u001b[0m\u001b[1;33m)\u001b[0m\u001b[1;33m:\u001b[0m\u001b[1;33m\u001b[0m\u001b[1;33m\u001b[0m\u001b[0m\n\u001b[1;32m--> 178\u001b[1;33m             \u001b[0mprint\u001b[0m\u001b[1;33m(\u001b[0m\u001b[0mi\u001b[0m\u001b[1;33m,\u001b[0m\u001b[0mtermsForpos\u001b[0m\u001b[1;33m,\u001b[0m\u001b[0mcount\u001b[0m\u001b[1;33m,\u001b[0m\u001b[0minds\u001b[0m\u001b[1;33m[\u001b[0m\u001b[0mi\u001b[0m\u001b[1;33m]\u001b[0m\u001b[1;33m,\u001b[0m\u001b[0minds\u001b[0m\u001b[1;33m,\u001b[0m\u001b[0mtermsForpos\u001b[0m\u001b[1;33m[\u001b[0m\u001b[0mcount\u001b[0m\u001b[1;33m]\u001b[0m\u001b[1;33m[\u001b[0m\u001b[1;36m1\u001b[0m\u001b[1;33m]\u001b[0m \u001b[1;33m-\u001b[0m \u001b[1;33m(\u001b[0m\u001b[0mi\u001b[0m\u001b[1;33m+\u001b[0m\u001b[1;36m1\u001b[0m\u001b[1;33m)\u001b[0m\u001b[1;33m,\u001b[0m\u001b[1;34m\"a\"\u001b[0m\u001b[1;33m)\u001b[0m\u001b[1;33m\u001b[0m\u001b[1;33m\u001b[0m\u001b[0m\n\u001b[0m\u001b[0;32m    179\u001b[0m             \u001b[0mprint\u001b[0m\u001b[1;33m(\u001b[0m\u001b[0mtermsForpos\u001b[0m\u001b[1;33m[\u001b[0m\u001b[0mcount\u001b[0m\u001b[1;33m]\u001b[0m\u001b[1;33m,\u001b[0m\u001b[1;34m\"b\"\u001b[0m\u001b[1;33m)\u001b[0m\u001b[1;33m\u001b[0m\u001b[1;33m\u001b[0m\u001b[0m\n\u001b[0;32m    180\u001b[0m             \u001b[0mind_pos\u001b[0m\u001b[1;33m.\u001b[0m\u001b[0mappend\u001b[0m\u001b[1;33m(\u001b[0m\u001b[1;33m(\u001b[0m\u001b[0minds\u001b[0m\u001b[1;33m[\u001b[0m\u001b[0mi\u001b[0m\u001b[1;33m]\u001b[0m\u001b[1;33m,\u001b[0m\u001b[0mi\u001b[0m\u001b[1;33m,\u001b[0m\u001b[0mtermsForpos\u001b[0m\u001b[1;33m[\u001b[0m\u001b[0mcount\u001b[0m\u001b[1;33m]\u001b[0m\u001b[1;33m[\u001b[0m\u001b[1;36m0\u001b[0m\u001b[1;33m]\u001b[0m\u001b[1;33m)\u001b[0m\u001b[1;33m)\u001b[0m\u001b[1;33m\u001b[0m\u001b[1;33m\u001b[0m\u001b[0m\n",
      "\u001b[1;31mIndexError\u001b[0m: list index out of range"
     ]
    }
   ],
   "source": [
    "e1=MultTensors(y,MultTensors(x,x))\n"
   ]
  },
  {
   "cell_type": "code",
   "execution_count": null,
   "id": "nervous-machinery",
   "metadata": {
    "scrolled": true
   },
   "outputs": [],
   "source": [
    "e1"
   ]
  },
  {
   "cell_type": "code",
   "execution_count": null,
   "id": "apart-shame",
   "metadata": {},
   "outputs": [],
   "source": [
    "e2=MultTensors(MultTensors(x,x),y)"
   ]
  },
  {
   "cell_type": "code",
   "execution_count": null,
   "id": "allied-theology",
   "metadata": {},
   "outputs": [],
   "source": [
    "print(e1,e2)\n",
    "print(e1==e2)"
   ]
  },
  {
   "cell_type": "code",
   "execution_count": null,
   "id": "precise-cisco",
   "metadata": {},
   "outputs": [],
   "source": [
    "#ScalPow(y,2)"
   ]
  },
  {
   "cell_type": "code",
   "execution_count": null,
   "id": "divine-coordination",
   "metadata": {},
   "outputs": [],
   "source": [
    "e3=MultTensors(Tensor(\"R\",j_0,i_0),Tensor(\"R\",j_1,i_1))"
   ]
  },
  {
   "cell_type": "code",
   "execution_count": null,
   "id": "greenhouse-floating",
   "metadata": {},
   "outputs": [],
   "source": [
    "e3"
   ]
  },
  {
   "cell_type": "code",
   "execution_count": null,
   "id": "internal-starter",
   "metadata": {},
   "outputs": [],
   "source": [
    "MultTensors(x,Tensor(\"R\",j_0,i_0))==MultTensors(Tensor(\"R\",j_0,i_0),x)"
   ]
  },
  {
   "cell_type": "code",
   "execution_count": null,
   "id": "collected-execution",
   "metadata": {},
   "outputs": [],
   "source": [
    "from algebra import *\n"
   ]
  },
  {
   "cell_type": "code",
   "execution_count": null,
   "id": "sealed-twenty",
   "metadata": {},
   "outputs": [],
   "source": [
    "e4=MultTensors(Tensor(\"R\",j_0,i_0),Tensor(\"R\",j_1,i_1),y,Scalar(\"x\"),2,4)"
   ]
  },
  {
   "cell_type": "code",
   "execution_count": null,
   "id": "anonymous-sunset",
   "metadata": {},
   "outputs": [],
   "source": [
    "e4"
   ]
  },
  {
   "cell_type": "code",
   "execution_count": null,
   "id": "oriental-sunglasses",
   "metadata": {},
   "outputs": [],
   "source": []
  },
  {
   "cell_type": "code",
   "execution_count": null,
   "id": "labeled-internship",
   "metadata": {},
   "outputs": [],
   "source": []
  },
  {
   "cell_type": "code",
   "execution_count": null,
   "id": "large-suite",
   "metadata": {},
   "outputs": [],
   "source": [
    "R =Tensor(\"R\",j_0,i_0)"
   ]
  },
  {
   "cell_type": "code",
   "execution_count": null,
   "id": "artistic-expert",
   "metadata": {},
   "outputs": [],
   "source": [
    "a=False "
   ]
  },
  {
   "cell_type": "code",
   "execution_count": null,
   "id": "oriental-democrat",
   "metadata": {},
   "outputs": [],
   "source": [
    "new_args=[] if a else None"
   ]
  },
  {
   "cell_type": "code",
   "execution_count": null,
   "id": "classified-basement",
   "metadata": {},
   "outputs": [],
   "source": [
    "new_args"
   ]
  },
  {
   "cell_type": "code",
   "execution_count": null,
   "id": "designing-charm",
   "metadata": {},
   "outputs": [],
   "source": [
    "a= [( \"a\", 0)]"
   ]
  },
  {
   "cell_type": "code",
   "execution_count": null,
   "id": "gentle-patch",
   "metadata": {},
   "outputs": [],
   "source": []
  },
  {
   "cell_type": "code",
   "execution_count": null,
   "id": "generic-employee",
   "metadata": {},
   "outputs": [],
   "source": []
  }
 ],
 "metadata": {
  "kernelspec": {
   "display_name": "Python 3",
   "language": "python",
   "name": "python3"
  },
  "language_info": {
   "codemirror_mode": {
    "name": "ipython",
    "version": 3
   },
   "file_extension": ".py",
   "mimetype": "text/x-python",
   "name": "python",
   "nbconvert_exporter": "python",
   "pygments_lexer": "ipython3",
   "version": "3.8.3"
  }
 },
 "nbformat": 4,
 "nbformat_minor": 5
}
