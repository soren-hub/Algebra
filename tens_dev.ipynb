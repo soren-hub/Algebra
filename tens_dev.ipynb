{
 "cells": [
  {
   "cell_type": "code",
   "execution_count": 1,
   "id": "powerful-appendix",
   "metadata": {
    "scrolled": true
   },
   "outputs": [],
   "source": [
    "from tensors import * "
   ]
  },
  {
   "cell_type": "code",
   "execution_count": 2,
   "id": "sharp-fireplace",
   "metadata": {},
   "outputs": [],
   "source": [
    "names=[(\"i\",0),(\"i\",1),(\"j\",0),(\"j\",1),(\"z\",0),(\"z\",1),(\"k\",1),(\"k\",0),(\"l\",0),(\"l\",1)]\n",
    "i_0,i_1,j_0,j_1,z_0,z_1,k_1,k_0,l_0,l_1=indexs(names)"
   ]
  },
  {
   "cell_type": "code",
   "execution_count": 3,
   "id": "freelance-threshold",
   "metadata": {},
   "outputs": [],
   "source": [
    "#i_0\n",
    "#print(i_0==i_0)"
   ]
  },
  {
   "cell_type": "code",
   "execution_count": 4,
   "id": "surrounded-identification",
   "metadata": {},
   "outputs": [],
   "source": [
    "#i_2=ContractedIndex(\"i\",2)\n",
    "#i_2"
   ]
  },
  {
   "cell_type": "code",
   "execution_count": 5,
   "id": "nominated-helen",
   "metadata": {},
   "outputs": [],
   "source": [
    "#x = Tensor(\"x\",i_0,i_1,z_0,j_1,j_0)\n",
    "x = Tensor(\"x\",j_1,j_0,i_0)\n",
    "#x"
   ]
  },
  {
   "cell_type": "code",
   "execution_count": 23,
   "id": "rental-latest",
   "metadata": {},
   "outputs": [],
   "source": [
    "y = Tensor(\"y\",i_0,i_1)\n",
    "#y"
   ]
  },
  {
   "cell_type": "code",
   "execution_count": 7,
   "id": "antique-update",
   "metadata": {},
   "outputs": [],
   "source": [
    "#xx=MultTensors(x,x)\n",
    "\n"
   ]
  },
  {
   "cell_type": "code",
   "execution_count": 8,
   "id": "absent-ethernet",
   "metadata": {},
   "outputs": [],
   "source": [
    "#print(xx.get_indices())\n",
    "#print(sorted(xx.position_indices(),key=lambda x: x[1]))\n",
    "\n",
    "#print(xx.get_args_tensors())"
   ]
  },
  {
   "cell_type": "code",
   "execution_count": 9,
   "id": "attended-citation",
   "metadata": {},
   "outputs": [],
   "source": [
    "#e1=MultTensors(y,MultTensors(x,x))\n"
   ]
  },
  {
   "cell_type": "code",
   "execution_count": 10,
   "id": "configured-northwest",
   "metadata": {
    "scrolled": true
   },
   "outputs": [],
   "source": [
    "#e1"
   ]
  },
  {
   "cell_type": "code",
   "execution_count": 11,
   "id": "portable-coupon",
   "metadata": {},
   "outputs": [],
   "source": [
    "#e2=MultTensors(MultTensors(x,x),y)"
   ]
  },
  {
   "cell_type": "code",
   "execution_count": 12,
   "id": "green-parts",
   "metadata": {},
   "outputs": [],
   "source": [
    "#print(e1==e2)"
   ]
  },
  {
   "cell_type": "code",
   "execution_count": 13,
   "id": "precise-cisco",
   "metadata": {},
   "outputs": [],
   "source": [
    "#ScalPow(y,2)"
   ]
  },
  {
   "cell_type": "code",
   "execution_count": 33,
   "id": "divine-coordination",
   "metadata": {},
   "outputs": [],
   "source": [
    "e3=Tensor(\"R\",j_0,i_0)*Tensor(\"R\",j_1,i_1)"
   ]
  },
  {
   "cell_type": "code",
   "execution_count": 34,
   "id": "signed-taxation",
   "metadata": {},
   "outputs": [
    {
     "data": {
      "text/plain": [
       "R(Çq, Çz)^2"
      ]
     },
     "execution_count": 34,
     "metadata": {},
     "output_type": "execute_result"
    }
   ],
   "source": [
    "e3#problema para arreglar despues "
   ]
  },
  {
   "cell_type": "code",
   "execution_count": 24,
   "id": "ultimate-provincial",
   "metadata": {
    "scrolled": true
   },
   "outputs": [
    {
     "data": {
      "text/plain": [
       "True"
      ]
     },
     "execution_count": 24,
     "metadata": {},
     "output_type": "execute_result"
    }
   ],
   "source": [
    "MultTensors(x,Tensor(\"R\",j_0,i_0))==MultTensors(Tensor(\"R\",j_0,i_0),x)"
   ]
  },
  {
   "cell_type": "code",
   "execution_count": 30,
   "id": "convinced-resident",
   "metadata": {},
   "outputs": [],
   "source": [
    "e4=Tensor(\"R\",j_0,i_0)*Tensor(\"R\",j_1,i_1)*y*Scalar(\"x\")*2*4"
   ]
  },
  {
   "cell_type": "code",
   "execution_count": 31,
   "id": "brave-obligation",
   "metadata": {},
   "outputs": [
    {
     "data": {
      "text/plain": [
       "8 x y(Çr, Çr) R(Çq, Çz)^2"
      ]
     },
     "execution_count": 31,
     "metadata": {},
     "output_type": "execute_result"
    }
   ],
   "source": [
    "e4"
   ]
  },
  {
   "cell_type": "code",
   "execution_count": 27,
   "id": "junior-observer",
   "metadata": {},
   "outputs": [],
   "source": [
    "e5=Tensor(\"R\",j_0,i_0)*Tensor(\"R\",j_1,i_1)"
   ]
  },
  {
   "cell_type": "code",
   "execution_count": 28,
   "id": "pleased-berlin",
   "metadata": {},
   "outputs": [
    {
     "data": {
      "text/plain": [
       "R(Çq, Çz)^2"
      ]
     },
     "execution_count": 28,
     "metadata": {},
     "output_type": "execute_result"
    }
   ],
   "source": [
    "e5"
   ]
  },
  {
   "cell_type": "code",
   "execution_count": null,
   "id": "encouraging-lesbian",
   "metadata": {},
   "outputs": [],
   "source": []
  },
  {
   "cell_type": "code",
   "execution_count": null,
   "id": "likely-substitute",
   "metadata": {},
   "outputs": [],
   "source": []
  },
  {
   "cell_type": "code",
   "execution_count": null,
   "id": "available-seafood",
   "metadata": {},
   "outputs": [],
   "source": []
  },
  {
   "cell_type": "code",
   "execution_count": null,
   "id": "loaded-leisure",
   "metadata": {},
   "outputs": [],
   "source": []
  },
  {
   "cell_type": "code",
   "execution_count": null,
   "id": "direct-stream",
   "metadata": {},
   "outputs": [],
   "source": []
  },
  {
   "cell_type": "code",
   "execution_count": null,
   "id": "backed-gravity",
   "metadata": {},
   "outputs": [],
   "source": []
  },
  {
   "cell_type": "code",
   "execution_count": null,
   "id": "coupled-desktop",
   "metadata": {},
   "outputs": [],
   "source": []
  }
 ],
 "metadata": {
  "kernelspec": {
   "display_name": "Python 3",
   "language": "python",
   "name": "python3"
  },
  "language_info": {
   "codemirror_mode": {
    "name": "ipython",
    "version": 3
   },
   "file_extension": ".py",
   "mimetype": "text/x-python",
   "name": "python",
   "nbconvert_exporter": "python",
   "pygments_lexer": "ipython3",
   "version": "3.8.3"
  }
 },
 "nbformat": 4,
 "nbformat_minor": 5
}
