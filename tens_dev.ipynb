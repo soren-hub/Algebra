{
 "cells": [
  {
   "cell_type": "code",
   "execution_count": 1,
   "id": "powerful-appendix",
   "metadata": {
    "scrolled": true
   },
   "outputs": [],
   "source": [
    "from tensors import * "
   ]
  },
  {
   "cell_type": "code",
   "execution_count": 2,
   "id": "sharp-fireplace",
   "metadata": {},
   "outputs": [],
   "source": [
    "names=[(\"i\",0),(\"i\",1),(\"j\",0),(\"j\",1),(\"z\",0),(\"z\",1),(\"k\",1),(\"k\",0),(\"l\",0),(\"l\",1)]\n",
    "i_0,i_1,j_0,j_1,z_0,z_1,k_1,k_0,l_0,l_1=indexs(names)"
   ]
  },
  {
   "cell_type": "code",
   "execution_count": 3,
   "id": "freelance-threshold",
   "metadata": {},
   "outputs": [
    {
     "name": "stdout",
     "output_type": "stream",
     "text": [
      "True\n"
     ]
    }
   ],
   "source": [
    "i_0\n",
    "print(i_0==i_0)"
   ]
  },
  {
   "cell_type": "code",
   "execution_count": 4,
   "id": "surrounded-identification",
   "metadata": {},
   "outputs": [
    {
     "data": {
      "text/plain": [
       "Çi"
      ]
     },
     "execution_count": 4,
     "metadata": {},
     "output_type": "execute_result"
    }
   ],
   "source": [
    "i_2=ContractedIndex(\"i\",2)\n",
    "i_2"
   ]
  },
  {
   "cell_type": "code",
   "execution_count": 5,
   "id": "nominated-helen",
   "metadata": {},
   "outputs": [
    {
     "data": {
      "text/plain": [
       "x(Çn, Çn, _i)"
      ]
     },
     "execution_count": 5,
     "metadata": {},
     "output_type": "execute_result"
    }
   ],
   "source": [
    "#x = Tensor(\"x\",i_0,i_1,z_0,j_1,j_0)\n",
    "x = Tensor(\"x\",j_1,j_0,i_0)\n",
    "x"
   ]
  },
  {
   "cell_type": "code",
   "execution_count": 6,
   "id": "rental-latest",
   "metadata": {},
   "outputs": [
    {
     "data": {
      "text/plain": [
       "y(Çn, Çn)"
      ]
     },
     "execution_count": 6,
     "metadata": {},
     "output_type": "execute_result"
    }
   ],
   "source": [
    "y = Tensor(\"y\",i_0,i_1)\n",
    "y"
   ]
  },
  {
   "cell_type": "code",
   "execution_count": 7,
   "id": "antique-update",
   "metadata": {},
   "outputs": [
    {
     "name": "stdout",
     "output_type": "stream",
     "text": [
      "[x(Çn, Çn, _i), x(Çn, Çn, _i)]\n"
     ]
    }
   ],
   "source": [
    "xx=MultTensors(x,x)\n",
    "\n"
   ]
  },
  {
   "cell_type": "code",
   "execution_count": 8,
   "id": "absent-ethernet",
   "metadata": {},
   "outputs": [
    {
     "name": "stdout",
     "output_type": "stream",
     "text": [
      "(Çn, Çn, _i, Çn, Çn, _i)\n",
      "[(Çn, 0), (Çn, 1), (_i, 2), (Çn, 3), (Çn, 4), (_i, 5)]\n",
      "[(0, 3), (1, 3)]\n",
      "(x(Çn, Çn, _i), x(Çn, Çn, _i))\n"
     ]
    }
   ],
   "source": [
    "print(xx.get_indices())\n",
    "print(sorted(xx.position_indices(),key=lambda x: x[1]))\n",
    "print(xx._quantity_ind_for_term())\n",
    "print(xx.get_args_tensors())"
   ]
  },
  {
   "cell_type": "code",
   "execution_count": 9,
   "id": "attended-citation",
   "metadata": {},
   "outputs": [
    {
     "name": "stdout",
     "output_type": "stream",
     "text": [
      "[x(Çn, Çn, _i), x(Çn, Çn, _i)]\n",
      "[y(Çn, Çn), x(Çn, Çn, _i), x(Çn, Çn, _i)]\n"
     ]
    }
   ],
   "source": [
    "e1=MultTensors(y,MultTensors(x,x))\n"
   ]
  },
  {
   "cell_type": "code",
   "execution_count": 10,
   "id": "configured-northwest",
   "metadata": {
    "scrolled": true
   },
   "outputs": [
    {
     "data": {
      "text/plain": [
       "y(Çn, Çn)*x(Çn, Çn, _i)*x(Çn, Çn, _i)"
      ]
     },
     "execution_count": 10,
     "metadata": {},
     "output_type": "execute_result"
    }
   ],
   "source": [
    "e1"
   ]
  },
  {
   "cell_type": "code",
   "execution_count": 11,
   "id": "portable-coupon",
   "metadata": {},
   "outputs": [
    {
     "name": "stdout",
     "output_type": "stream",
     "text": [
      "[x(Çn, Çn, _i), x(Çn, Çn, _i)]\n",
      "[x(Çn, Çn, _i), x(Çn, Çn, _i), y(Çn, Çn)]\n"
     ]
    }
   ],
   "source": [
    "e2=MultTensors(MultTensors(x,x),y)"
   ]
  },
  {
   "cell_type": "code",
   "execution_count": 12,
   "id": "green-parts",
   "metadata": {},
   "outputs": [
    {
     "name": "stdout",
     "output_type": "stream",
     "text": [
      "y(Çn, Çn)*x(Çn, Çn, _i)*x(Çn, Çn, _i) y(Çn, Çn)*x(Çn, Çn, _i)*x(Çn, Çn, _i)\n",
      "True\n"
     ]
    }
   ],
   "source": [
    "print(e1,e2)\n",
    "print(e1==e2)"
   ]
  },
  {
   "cell_type": "code",
   "execution_count": 13,
   "id": "precise-cisco",
   "metadata": {},
   "outputs": [],
   "source": [
    "#ScalPow(y,2)"
   ]
  },
  {
   "cell_type": "code",
   "execution_count": 14,
   "id": "divine-coordination",
   "metadata": {},
   "outputs": [
    {
     "name": "stdout",
     "output_type": "stream",
     "text": [
      "[R(Çw, Çn), R(Çw, Çn)]\n"
     ]
    }
   ],
   "source": [
    "e3=MultTensors(Tensor(\"R\",j_0,i_0),Tensor(\"R\",j_1,i_1))"
   ]
  },
  {
   "cell_type": "code",
   "execution_count": 15,
   "id": "signed-taxation",
   "metadata": {},
   "outputs": [
    {
     "data": {
      "text/plain": [
       "R(Çw, Çn)^2"
      ]
     },
     "execution_count": 15,
     "metadata": {},
     "output_type": "execute_result"
    }
   ],
   "source": [
    "e3#problema para arreglar despues "
   ]
  },
  {
   "cell_type": "code",
   "execution_count": 16,
   "id": "ultimate-provincial",
   "metadata": {
    "scrolled": true
   },
   "outputs": [],
   "source": [
    "#MultTensors(x,Tensor(\"R\",j_0,i_0))==MultTensors(Tensor(\"R\",j_0,i_0),x)"
   ]
  },
  {
   "cell_type": "code",
   "execution_count": 17,
   "id": "convinced-resident",
   "metadata": {},
   "outputs": [
    {
     "name": "stdout",
     "output_type": "stream",
     "text": [
      "[x, 2, 4, R(Çq, Çw), R(Çq, Çw), y(Çn, Çn)]\n"
     ]
    }
   ],
   "source": [
    "e4=MultTensors(Tensor(\"R\",j_0,i_0),Tensor(\"R\",j_1,i_1),y,Scalar(\"x\"),2,4)"
   ]
  },
  {
   "cell_type": "code",
   "execution_count": 18,
   "id": "brave-obligation",
   "metadata": {},
   "outputs": [
    {
     "data": {
      "text/plain": [
       "8*x*R(Çq, Çw)^2*y(Çn, Çn)"
      ]
     },
     "execution_count": 18,
     "metadata": {},
     "output_type": "execute_result"
    }
   ],
   "source": [
    "e4"
   ]
  },
  {
   "cell_type": "code",
   "execution_count": 19,
   "id": "junior-observer",
   "metadata": {},
   "outputs": [
    {
     "name": "stdout",
     "output_type": "stream",
     "text": [
      "[R(Çw, Çn), R(Çw, Çn)]\n"
     ]
    }
   ],
   "source": [
    "e5=MultTensors(Tensor(\"R\",j_0,i_0),Tensor(\"R\",j_1,i_1))"
   ]
  },
  {
   "cell_type": "code",
   "execution_count": 20,
   "id": "pleased-berlin",
   "metadata": {},
   "outputs": [
    {
     "data": {
      "text/plain": [
       "R(Çw, Çn)^2"
      ]
     },
     "execution_count": 20,
     "metadata": {},
     "output_type": "execute_result"
    }
   ],
   "source": [
    "e5"
   ]
  },
  {
   "cell_type": "code",
   "execution_count": null,
   "id": "encouraging-lesbian",
   "metadata": {},
   "outputs": [],
   "source": []
  },
  {
   "cell_type": "code",
   "execution_count": null,
   "id": "likely-substitute",
   "metadata": {},
   "outputs": [],
   "source": []
  },
  {
   "cell_type": "code",
   "execution_count": null,
   "id": "available-seafood",
   "metadata": {},
   "outputs": [],
   "source": []
  },
  {
   "cell_type": "code",
   "execution_count": null,
   "id": "loaded-leisure",
   "metadata": {},
   "outputs": [],
   "source": []
  },
  {
   "cell_type": "code",
   "execution_count": null,
   "id": "direct-stream",
   "metadata": {},
   "outputs": [],
   "source": []
  },
  {
   "cell_type": "code",
   "execution_count": null,
   "id": "backed-gravity",
   "metadata": {},
   "outputs": [],
   "source": []
  },
  {
   "cell_type": "code",
   "execution_count": null,
   "id": "coupled-desktop",
   "metadata": {},
   "outputs": [],
   "source": []
  }
 ],
 "metadata": {
  "kernelspec": {
   "display_name": "Python 3",
   "language": "python",
   "name": "python3"
  },
  "language_info": {
   "codemirror_mode": {
    "name": "ipython",
    "version": 3
   },
   "file_extension": ".py",
   "mimetype": "text/x-python",
   "name": "python",
   "nbconvert_exporter": "python",
   "pygments_lexer": "ipython3",
   "version": "3.8.3"
  }
 },
 "nbformat": 4,
 "nbformat_minor": 5
}
