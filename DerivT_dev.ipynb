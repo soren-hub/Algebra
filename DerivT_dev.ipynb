{
 "cells": [
  {
   "cell_type": "code",
   "execution_count": 1,
   "id": "powerful-appendix",
   "metadata": {
    "scrolled": true
   },
   "outputs": [],
   "source": [
    "from tensors import * "
   ]
  },
  {
   "cell_type": "code",
   "execution_count": 2,
   "id": "sharp-fireplace",
   "metadata": {},
   "outputs": [],
   "source": [
    "names=[(\"i\",0),(\"i\",1),(\"j\",0),(\"j\",1),(\"z\",0),(\"z\",1),(\"k\",1),(\"k\",0),(\"l\",0),(\"l\",1)]\n",
    "i_0,i_1,j_0,j_1,z_0,z_1,k_1,k_0,l_0,l_1=indexs(names)"
   ]
  },
  {
   "cell_type": "code",
   "execution_count": 3,
   "id": "freelance-threshold",
   "metadata": {},
   "outputs": [],
   "source": [
    "#i_0\n",
    "#print(i_0==i_0)"
   ]
  },
  {
   "cell_type": "code",
   "execution_count": 4,
   "id": "surrounded-identification",
   "metadata": {},
   "outputs": [],
   "source": [
    "#i_2=ContractedIndex(\"i\",2)\n",
    "#i_2"
   ]
  },
  {
   "cell_type": "code",
   "execution_count": 5,
   "id": "nominated-helen",
   "metadata": {},
   "outputs": [],
   "source": [
    "#x = Tensor(\"x\",i_0,i_1,z_0,j_1,j_0)\n",
    "#x = Tensor(\"x\",j_1,j_0,i_0)\n",
    "#x"
   ]
  },
  {
   "cell_type": "code",
   "execution_count": 6,
   "id": "rental-latest",
   "metadata": {},
   "outputs": [],
   "source": [
    "#y = Tensor(\"y\",i_0,i_1)\n",
    "#y"
   ]
  },
  {
   "cell_type": "code",
   "execution_count": 7,
   "id": "antique-update",
   "metadata": {},
   "outputs": [],
   "source": [
    "#xx=MultTensors(x,x)\n",
    "\n"
   ]
  },
  {
   "cell_type": "code",
   "execution_count": 8,
   "id": "absent-ethernet",
   "metadata": {},
   "outputs": [],
   "source": [
    "#print(xx.get_indices())\n",
    "#print(sorted(xx.position_indices(),key=lambda x: x[1]))\n",
    "\n",
    "#print(xx.get_args_tensors())"
   ]
  },
  {
   "cell_type": "code",
   "execution_count": 9,
   "id": "attended-citation",
   "metadata": {},
   "outputs": [],
   "source": [
    "#e1=MultTensors(y,MultTensors(x,x))\n"
   ]
  },
  {
   "cell_type": "code",
   "execution_count": 10,
   "id": "configured-northwest",
   "metadata": {
    "scrolled": true
   },
   "outputs": [],
   "source": [
    "#e1"
   ]
  },
  {
   "cell_type": "code",
   "execution_count": 11,
   "id": "portable-coupon",
   "metadata": {},
   "outputs": [],
   "source": [
    "#e2=MultTensors(MultTensors(x,x),y)"
   ]
  },
  {
   "cell_type": "code",
   "execution_count": 12,
   "id": "green-parts",
   "metadata": {},
   "outputs": [],
   "source": [
    "#print(e1==e2)"
   ]
  },
  {
   "cell_type": "code",
   "execution_count": 13,
   "id": "precise-cisco",
   "metadata": {},
   "outputs": [],
   "source": [
    "#ScalPow(y,2)"
   ]
  },
  {
   "cell_type": "code",
   "execution_count": 14,
   "id": "divine-coordination",
   "metadata": {},
   "outputs": [],
   "source": [
    "#e3=Tensor(\"R\",j_0,i_0)*Tensor(\"R\",j_1,i_1)"
   ]
  },
  {
   "cell_type": "code",
   "execution_count": 15,
   "id": "signed-taxation",
   "metadata": {},
   "outputs": [],
   "source": [
    "#e3#problema para arreglar despues "
   ]
  },
  {
   "cell_type": "code",
   "execution_count": 16,
   "id": "ultimate-provincial",
   "metadata": {
    "scrolled": true
   },
   "outputs": [],
   "source": [
    "#MultTensors(x,Tensor(\"R\",j_0,i_0))==MultTensors(Tensor(\"R\",j_0,i_0),x)"
   ]
  },
  {
   "cell_type": "code",
   "execution_count": 17,
   "id": "convinced-resident",
   "metadata": {},
   "outputs": [],
   "source": [
    "#e4=Tensor(\"R\",j_0,i_0)*Tensor(\"R\",j_1,i_1)*y*Scalar(\"x\")*2*4"
   ]
  },
  {
   "cell_type": "code",
   "execution_count": 18,
   "id": "brave-obligation",
   "metadata": {},
   "outputs": [],
   "source": [
    "#e4"
   ]
  },
  {
   "cell_type": "code",
   "execution_count": 19,
   "id": "junior-observer",
   "metadata": {},
   "outputs": [],
   "source": [
    "#e5=Tensor(\"R\",j_0,i_0)*Tensor(\"R\",j_1,i_1)"
   ]
  },
  {
   "cell_type": "markdown",
   "id": "headed-technique",
   "metadata": {},
   "source": [
    "Examples\n"
   ]
  },
  {
   "cell_type": "code",
   "execution_count": 20,
   "id": "pleased-berlin",
   "metadata": {},
   "outputs": [],
   "source": [
    "u_2=ContractedIndex(\"u\",2)\n",
    "q_2=ContractedIndex(\"q\",2)"
   ]
  },
  {
   "cell_type": "code",
   "execution_count": 21,
   "id": "interim-tobago",
   "metadata": {},
   "outputs": [],
   "source": [
    "x = Tensor(\"x\",i_0)* Tensor(\"y\",j_0) + Tensor(\"R\",i_0)*Tensor(\"H\",j_0)\n",
    "#x"
   ]
  },
  {
   "cell_type": "code",
   "execution_count": 22,
   "id": "encouraging-lesbian",
   "metadata": {
    "scrolled": true
   },
   "outputs": [],
   "source": [
    "a=DerivTensors(x,i_1,j_1)"
   ]
  },
  {
   "cell_type": "code",
   "execution_count": 23,
   "id": "likely-substitute",
   "metadata": {},
   "outputs": [
    {
     "data": {
      "text/plain": [
       "∂(H_j R_i + x_i y_j,(^i, ^j))"
      ]
     },
     "execution_count": 23,
     "metadata": {},
     "output_type": "execute_result"
    }
   ],
   "source": [
    "a#.contraction(mult_tensor=True)"
   ]
  },
  {
   "cell_type": "code",
   "execution_count": 24,
   "id": "industrial-washer",
   "metadata": {},
   "outputs": [
    {
     "data": {
      "text/plain": [
       "HÇf ∂(RÇb,(Çb, Çf)) + 2 RÇb ∂(HÇf,(Çb, Çf)) + xÇb ∂(yÇf,(Çb, Çf)) + yÇf ∂(xÇb,(Çb, Çf))"
      ]
     },
     "execution_count": 24,
     "metadata": {},
     "output_type": "execute_result"
    }
   ],
   "source": [
    "(a.expanded()+DerivTensors(Tensor(\"H\",q_2),u_2,q_2)*Tensor(\"R\",u_2))"
   ]
  },
  {
   "cell_type": "code",
   "execution_count": 25,
   "id": "available-seafood",
   "metadata": {
    "scrolled": true
   },
   "outputs": [],
   "source": [
    "e=1 + Tensor(\"y\",i_0,i_1) + 3 + Scalar(\"z\") + Tensor(\"y\",i_0,i_1) + Scalar(\"x\")+ Scalar(\"x\")**2 + Scalar(\"x\")**2"
   ]
  },
  {
   "cell_type": "code",
   "execution_count": 26,
   "id": "comparable-export",
   "metadata": {},
   "outputs": [
    {
     "data": {
      "text/plain": [
       "z + x + 4 + 2 x^2 + 2 y(Çb, Çb)"
      ]
     },
     "execution_count": 26,
     "metadata": {},
     "output_type": "execute_result"
    }
   ],
   "source": [
    "e"
   ]
  },
  {
   "cell_type": "code",
   "execution_count": 27,
   "id": "loaded-leisure",
   "metadata": {},
   "outputs": [],
   "source": [
    "\n",
    "names=[(\"i\",0),(\"i\",1),\n",
    "       (\"j\",0),(\"j\",1),\n",
    "       (\"z\",0),(\"z\",1),\n",
    "       (\"k\",0),(\"k\",1),\n",
    "       (\"l\",0),(\"l\",1),\n",
    "       (\"u\",0),(\"u\",1),\n",
    "       (\"v\",0),(\"v\",1),\n",
    "       (\"n\",0),(\"n\",1),\n",
    "       (\"a\",0),(\"a\",1),\n",
    "       (\"b\",0),(\"b\",1)]\n",
    "\n",
    "(i_0,i_1,\n",
    " j_0,j_1,\n",
    " z_0,z_1,\n",
    " k_0,k_1,\n",
    " l_0,l_1,\n",
    " u_0,u_1,\n",
    " v_0,v_1,\n",
    " n_0,n_1,\n",
    " a_0,a_1,\n",
    " b_0,b_1)=indexs(names)\n",
    "\n",
    "\n"
   ]
  },
  {
   "cell_type": "code",
   "execution_count": 28,
   "id": "direct-stream",
   "metadata": {},
   "outputs": [],
   "source": [
    "n=Tensor(\"n\",a_1,b_1)\n",
    "h_u_b = Tensor(\"h\",u_0,b_0)\n",
    "h_v_b = Tensor(\"h\",v_0,b_0)\n",
    "h_u_v = Tensor(\"h\",u_0,v_0)\n",
    "cris=(1/2)*n*(DerivTensors(h_u_b,v_0)+DerivTensors(h_v_b,u_0)+DerivTensors(h_u_v,b_0))"
   ]
  },
  {
   "cell_type": "code",
   "execution_count": 29,
   "id": "backed-gravity",
   "metadata": {},
   "outputs": [],
   "source": [
    "#(1/2)*n\n",
    "\n"
   ]
  },
  {
   "cell_type": "code",
   "execution_count": 30,
   "id": "coupled-desktop",
   "metadata": {},
   "outputs": [
    {
     "data": {
      "text/plain": [
       "0.5 n(^a, Çf) ∂(h(_v, Çf),_u) + 0.5 n(^a, Çf) ∂(h(_u, Çf),_v) + 0.5 n(^a, Çf) ∂(h(_u, _v),Çf)"
      ]
     },
     "execution_count": 30,
     "metadata": {},
     "output_type": "execute_result"
    }
   ],
   "source": [
    "cris.expanded()"
   ]
  },
  {
   "cell_type": "code",
   "execution_count": null,
   "id": "dressed-engineer",
   "metadata": {},
   "outputs": [],
   "source": []
  },
  {
   "cell_type": "code",
   "execution_count": null,
   "id": "solar-accused",
   "metadata": {},
   "outputs": [],
   "source": []
  },
  {
   "cell_type": "code",
   "execution_count": 31,
   "id": "surgical-henry",
   "metadata": {},
   "outputs": [],
   "source": [
    "#DerivTensors(h_u_b,v_0)\n"
   ]
  },
  {
   "cell_type": "code",
   "execution_count": 32,
   "id": "stuck-thought",
   "metadata": {},
   "outputs": [],
   "source": [
    "#args=[(1/2),n,(DerivTensors(h_u_b,v_0)+DerivTensors(h_v_b,u_0)+DerivTensors(h_u_v,b_0))]"
   ]
  },
  {
   "cell_type": "code",
   "execution_count": 33,
   "id": "latin-bachelor",
   "metadata": {},
   "outputs": [],
   "source": [
    "#list(filter(lambda f:isinstance(f,PlusTensors),args))"
   ]
  },
  {
   "cell_type": "code",
   "execution_count": 34,
   "id": "lyric-connecticut",
   "metadata": {},
   "outputs": [],
   "source": [
    "#(DerivTensors(h_u_b,v_0)+DerivTensors(h_v_b,u_0)+DerivTensors(h_u_v,b_0))"
   ]
  },
  {
   "cell_type": "code",
   "execution_count": 35,
   "id": "posted-walker",
   "metadata": {},
   "outputs": [],
   "source": [
    "#MultTensors(1,DerivTensors(h_v_b,u_0))"
   ]
  },
  {
   "cell_type": "code",
   "execution_count": 36,
   "id": "departmental-twenty",
   "metadata": {
    "scrolled": true
   },
   "outputs": [],
   "source": [
    "#MultTensors(Tensor(\"x\",u_1),DerivTensors(h_v_b,u_0))"
   ]
  },
  {
   "cell_type": "code",
   "execution_count": null,
   "id": "hindu-birth",
   "metadata": {},
   "outputs": [],
   "source": []
  },
  {
   "cell_type": "code",
   "execution_count": null,
   "id": "biological-gospel",
   "metadata": {
    "scrolled": true
   },
   "outputs": [],
   "source": []
  },
  {
   "cell_type": "code",
   "execution_count": 37,
   "id": "duplicate-allergy",
   "metadata": {},
   "outputs": [],
   "source": [
    "#MultTensors(Tensor(\"x\",u_1),DerivTensors(h_v_b,u_0))"
   ]
  },
  {
   "cell_type": "code",
   "execution_count": 38,
   "id": "confidential-delay",
   "metadata": {},
   "outputs": [],
   "source": [
    "#falta comprobar deriv(mult_Ten,ind)\n",
    "#e0=DerivTensors(Tensor(\"H\",b_0),a_0)*Tensor(\"R\",a_1)\n",
    "#e1=DerivTensors(e0,b_1)\n"
   ]
  },
  {
   "cell_type": "code",
   "execution_count": null,
   "id": "residential-vertex",
   "metadata": {
    "scrolled": false
   },
   "outputs": [],
   "source": []
  },
  {
   "cell_type": "code",
   "execution_count": null,
   "id": "recorded-parts",
   "metadata": {},
   "outputs": [],
   "source": []
  },
  {
   "cell_type": "code",
   "execution_count": null,
   "id": "appointed-buyer",
   "metadata": {},
   "outputs": [],
   "source": []
  },
  {
   "cell_type": "code",
   "execution_count": null,
   "id": "peaceful-vertical",
   "metadata": {},
   "outputs": [],
   "source": []
  },
  {
   "cell_type": "code",
   "execution_count": null,
   "id": "metropolitan-appointment",
   "metadata": {},
   "outputs": [],
   "source": []
  }
 ],
 "metadata": {
  "kernelspec": {
   "display_name": "Python 3",
   "language": "python",
   "name": "python3"
  },
  "language_info": {
   "codemirror_mode": {
    "name": "ipython",
    "version": 3
   },
   "file_extension": ".py",
   "mimetype": "text/x-python",
   "name": "python",
   "nbconvert_exporter": "python",
   "pygments_lexer": "ipython3",
   "version": "3.8.3"
  }
 },
 "nbformat": 4,
 "nbformat_minor": 5
}
