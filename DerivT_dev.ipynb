{
 "cells": [
  {
   "cell_type": "code",
   "execution_count": 1,
   "id": "powerful-appendix",
   "metadata": {
    "scrolled": true
   },
   "outputs": [],
   "source": [
    "from tensors import * \n",
    "from algebra import *"
   ]
  },
  {
   "cell_type": "code",
   "execution_count": 2,
   "id": "sharp-fireplace",
   "metadata": {},
   "outputs": [],
   "source": [
    "\n",
    "names=[(\"i\",0),(\"i\",1),\n",
    "       (\"j\",0),(\"j\",1),\n",
    "       (\"z\",0),(\"z\",1),\n",
    "       (\"k\",0),(\"k\",1),\n",
    "       (\"l\",0),(\"l\",1),\n",
    "       (\"u\",0),(\"u\",1),\n",
    "       (\"v\",0),(\"v\",1),\n",
    "       (\"n\",0),(\"n\",1),\n",
    "       (\"a\",0),(\"a\",1),\n",
    "       (\"b\",0),(\"b\",1)]\n",
    "\n",
    "(i_0,i_1,\n",
    " j_0,j_1,\n",
    " z_0,z_1,\n",
    " k_0,k_1,\n",
    " l_0,l_1,\n",
    " u_0,u_1,\n",
    " v_0,v_1,\n",
    " n_0,n_1,\n",
    " a_0,a_1,\n",
    " b_0,b_1)=indexs(names)\n"
   ]
  },
  {
   "cell_type": "code",
   "execution_count": 3,
   "id": "freelance-threshold",
   "metadata": {},
   "outputs": [],
   "source": [
    "#i_0\n",
    "#print(i_0==i_0)"
   ]
  },
  {
   "cell_type": "code",
   "execution_count": 4,
   "id": "surrounded-identification",
   "metadata": {},
   "outputs": [],
   "source": [
    "#i_2=ContractedIndex(\"i\",2)\n",
    "#i_2"
   ]
  },
  {
   "cell_type": "code",
   "execution_count": 5,
   "id": "nominated-helen",
   "metadata": {},
   "outputs": [],
   "source": [
    "#x = Tensor(\"x\",i_0,i_1,z_0,j_1,j_0)\n",
    "#x = Tensor(\"x\",j_1,j_0,i_0)\n",
    "#x"
   ]
  },
  {
   "cell_type": "code",
   "execution_count": 6,
   "id": "rental-latest",
   "metadata": {},
   "outputs": [],
   "source": [
    "#y = Tensor(\"y\",i_0,i_1)\n",
    "#y"
   ]
  },
  {
   "cell_type": "code",
   "execution_count": 7,
   "id": "antique-update",
   "metadata": {},
   "outputs": [],
   "source": [
    "#xx=MultTensors(x,x)\n",
    "\n"
   ]
  },
  {
   "cell_type": "code",
   "execution_count": 8,
   "id": "absent-ethernet",
   "metadata": {},
   "outputs": [],
   "source": [
    "#print(xx.get_indices())\n",
    "#print(sorted(xx.position_indices(),key=lambda x: x[1]))\n",
    "\n",
    "#print(xx.get_args_tensors())"
   ]
  },
  {
   "cell_type": "code",
   "execution_count": 9,
   "id": "attended-citation",
   "metadata": {},
   "outputs": [],
   "source": [
    "#e1=MultTensors(y,MultTensors(x,x))\n"
   ]
  },
  {
   "cell_type": "code",
   "execution_count": 10,
   "id": "configured-northwest",
   "metadata": {
    "scrolled": true
   },
   "outputs": [],
   "source": [
    "#e1"
   ]
  },
  {
   "cell_type": "code",
   "execution_count": 11,
   "id": "portable-coupon",
   "metadata": {},
   "outputs": [],
   "source": [
    "#e2=MultTensors(MultTensors(x,x),y)"
   ]
  },
  {
   "cell_type": "code",
   "execution_count": 12,
   "id": "green-parts",
   "metadata": {},
   "outputs": [],
   "source": [
    "#print(e1==e2)"
   ]
  },
  {
   "cell_type": "code",
   "execution_count": 13,
   "id": "precise-cisco",
   "metadata": {},
   "outputs": [],
   "source": [
    "#ScalPow(y,2)"
   ]
  },
  {
   "cell_type": "code",
   "execution_count": 14,
   "id": "divine-coordination",
   "metadata": {},
   "outputs": [],
   "source": [
    "#e3=Tensor(\"R\",j_0,i_0)*Tensor(\"R\",j_1,i_1)"
   ]
  },
  {
   "cell_type": "code",
   "execution_count": 15,
   "id": "signed-taxation",
   "metadata": {},
   "outputs": [],
   "source": [
    "#e3#problema para arreglar despues "
   ]
  },
  {
   "cell_type": "code",
   "execution_count": 16,
   "id": "ultimate-provincial",
   "metadata": {
    "scrolled": true
   },
   "outputs": [],
   "source": [
    "#MultTensors(x,Tensor(\"R\",j_0,i_0))==MultTensors(Tensor(\"R\",j_0,i_0),x)"
   ]
  },
  {
   "cell_type": "code",
   "execution_count": 17,
   "id": "convinced-resident",
   "metadata": {},
   "outputs": [],
   "source": [
    "#e4=Tensor(\"R\",j_0,i_0)*Tensor(\"R\",j_1,i_1)*y*Scalar(\"x\")*2*4"
   ]
  },
  {
   "cell_type": "code",
   "execution_count": 18,
   "id": "brave-obligation",
   "metadata": {},
   "outputs": [],
   "source": [
    "#e4"
   ]
  },
  {
   "cell_type": "code",
   "execution_count": 19,
   "id": "junior-observer",
   "metadata": {},
   "outputs": [],
   "source": [
    "#e5=Tensor(\"R\",j_0,i_0)*Tensor(\"R\",j_1,i_1)"
   ]
  },
  {
   "cell_type": "markdown",
   "id": "headed-technique",
   "metadata": {},
   "source": [
    "Examples\n"
   ]
  },
  {
   "cell_type": "code",
   "execution_count": 20,
   "id": "pleased-berlin",
   "metadata": {},
   "outputs": [],
   "source": [
    "#u_2=ContractedIndex(\"u\",2)\n",
    "#q_2=ContractedIndex(\"q\",2)"
   ]
  },
  {
   "cell_type": "code",
   "execution_count": 21,
   "id": "interim-tobago",
   "metadata": {},
   "outputs": [],
   "source": [
    "#x = Tensor(\"x\",i_0)* Tensor(\"y\",j_0) + Tensor(\"R\",i_0)*Tensor(\"H\",j_0)\n",
    "#x"
   ]
  },
  {
   "cell_type": "code",
   "execution_count": 22,
   "id": "encouraging-lesbian",
   "metadata": {
    "scrolled": true
   },
   "outputs": [],
   "source": [
    "#a=DerivTensors(x,i_1,j_1)"
   ]
  },
  {
   "cell_type": "code",
   "execution_count": 23,
   "id": "likely-substitute",
   "metadata": {},
   "outputs": [],
   "source": [
    "#a#.contraction(mult_tensor=True)"
   ]
  },
  {
   "cell_type": "code",
   "execution_count": 24,
   "id": "industrial-washer",
   "metadata": {},
   "outputs": [],
   "source": [
    "#(a.expanded()+DerivTensors(Tensor(\"H\",q_2),u_2,q_2)*Tensor(\"R\",u_2))"
   ]
  },
  {
   "cell_type": "code",
   "execution_count": 25,
   "id": "available-seafood",
   "metadata": {
    "scrolled": true
   },
   "outputs": [],
   "source": [
    "#e=1 + Tensor(\"y\",i_0,i_1) + 3 + Scalar(\"z\") + Tensor(\"y\",i_0,i_1) + Scalar(\"x\")+ Scalar(\"x\")**2 + Scalar(\"x\")**2"
   ]
  },
  {
   "cell_type": "code",
   "execution_count": 26,
   "id": "ranking-forty",
   "metadata": {},
   "outputs": [],
   "source": [
    "#e"
   ]
  },
  {
   "cell_type": "code",
   "execution_count": 27,
   "id": "direct-stream",
   "metadata": {},
   "outputs": [],
   "source": [
    "#metric=Tensor(\"n\",u_0,v_0)\n",
    "#h_u_b = Tensor(\"h\",u_0,b_0)\n",
    "#h_v_b = Tensor(\"h\",v_0,b_0)\n",
    "#h_u_v = Tensor(\"h\",u_0,v_0)\n",
    "#cris=(DerivTensors(h_u_b,v_0)+DerivTensors(h_v_b,u_0)+DerivTensors(h_u_v,b_0))*(1/2)*metric"
   ]
  },
  {
   "cell_type": "code",
   "execution_count": 28,
   "id": "coupled-desktop",
   "metadata": {},
   "outputs": [],
   "source": [
    "#cris#.expanded()"
   ]
  },
  {
   "cell_type": "code",
   "execution_count": 29,
   "id": "surgical-henry",
   "metadata": {},
   "outputs": [],
   "source": [
    "#DerivTensors(h_u_b,v_0)\n"
   ]
  },
  {
   "cell_type": "code",
   "execution_count": 30,
   "id": "perfect-patch",
   "metadata": {},
   "outputs": [],
   "source": [
    "#args=[(1/2),n,(DerivTensors(h_u_b,v_0)+DerivTensors(h_v_b,u_0)+DerivTensors(h_u_v,b_0))]"
   ]
  },
  {
   "cell_type": "code",
   "execution_count": 31,
   "id": "latin-bachelor",
   "metadata": {},
   "outputs": [],
   "source": [
    "#list(filter(lambda f:isinstance(f,PlusTensors),args))"
   ]
  },
  {
   "cell_type": "code",
   "execution_count": 32,
   "id": "lyric-connecticut",
   "metadata": {},
   "outputs": [],
   "source": [
    "#(DerivTensors(h_u_b,v_0)+DerivTensors(h_v_b,u_0)+DerivTensors(h_u_v,b_0))"
   ]
  },
  {
   "cell_type": "code",
   "execution_count": 33,
   "id": "underlying-board",
   "metadata": {},
   "outputs": [],
   "source": [
    "#MultTensors(1,DerivTensors(h_v_b,u_0))"
   ]
  },
  {
   "cell_type": "code",
   "execution_count": 34,
   "id": "three-outline",
   "metadata": {
    "scrolled": true
   },
   "outputs": [],
   "source": [
    "#MultTensors(Tensor(\"x\",u_1),DerivTensors(h_v_b,u_0))"
   ]
  },
  {
   "cell_type": "code",
   "execution_count": 35,
   "id": "familiar-caribbean",
   "metadata": {},
   "outputs": [],
   "source": [
    "#MultTensors(Tensor(\"x\",u_1),DerivTensors(h_v_b,u_0))"
   ]
  },
  {
   "cell_type": "code",
   "execution_count": 36,
   "id": "secure-genome",
   "metadata": {},
   "outputs": [],
   "source": [
    "#falta comprobar deriv(mult_Ten,ind)\n",
    "#e0=DerivTensors(Tensor(\"H\",b_0),a_0)*Tensor(\"R\",a_1)\n",
    "#e1=DerivTensors(e0,b_1)"
   ]
  },
  {
   "cell_type": "code",
   "execution_count": 37,
   "id": "turned-welding",
   "metadata": {},
   "outputs": [],
   "source": [
    "#a.ignore_metric()"
   ]
  },
  {
   "cell_type": "code",
   "execution_count": 38,
   "id": "approximate-launch",
   "metadata": {},
   "outputs": [],
   "source": [
    "#metric=Metric(\"n\",a_1,v_0)\n",
    "#h_a_v = Tensor(\"h\",a_0,u_0)"
   ]
  },
  {
   "cell_type": "code",
   "execution_count": 39,
   "id": "manual-opposition",
   "metadata": {},
   "outputs": [],
   "source": [
    "#a=h_a_v*metric*(Tensor(\"x\",i_0)+Tensor(\"y\",i_0))\n",
    "#a"
   ]
  },
  {
   "cell_type": "code",
   "execution_count": 40,
   "id": "accredited-oliver",
   "metadata": {
    "scrolled": false
   },
   "outputs": [],
   "source": [
    "#a.ignore_metric_contracted()"
   ]
  },
  {
   "cell_type": "code",
   "execution_count": 41,
   "id": "macro-holder",
   "metadata": {},
   "outputs": [],
   "source": [
    "#guardar los indices "
   ]
  },
  {
   "cell_type": "code",
   "execution_count": 42,
   "id": "material-equivalent",
   "metadata": {},
   "outputs": [],
   "source": [
    "#a={1: 2}"
   ]
  },
  {
   "cell_type": "code",
   "execution_count": 43,
   "id": "sexual-newspaper",
   "metadata": {},
   "outputs": [],
   "source": [
    "#list(a.keys())"
   ]
  },
  {
   "cell_type": "code",
   "execution_count": null,
   "id": "least-mitchell",
   "metadata": {},
   "outputs": [],
   "source": []
  },
  {
   "cell_type": "code",
   "execution_count": null,
   "id": "gorgeous-slovenia",
   "metadata": {},
   "outputs": [],
   "source": []
  },
  {
   "cell_type": "code",
   "execution_count": 44,
   "id": "introductory-oklahoma",
   "metadata": {},
   "outputs": [
    {
     "data": {
      "text/plain": [
       "n(_v, _a) + h(_v, _a) + O(ϵ^2)"
      ]
     },
     "execution_count": 44,
     "metadata": {},
     "output_type": "execute_result"
    }
   ],
   "source": [
    "#m = (metric+h_u_v)\n",
    "metric=Metric(\"n\",v_0,a_0)\n",
    "h_a_v = Tensor(\"h\",v_0,a_0)\n",
    "terms =[metric,h_a_v] \n",
    "m = Serie(terms,h_a_v,for_tensor=True)\n",
    "m"
   ]
  },
  {
   "cell_type": "code",
   "execution_count": 45,
   "id": "intelligent-gauge",
   "metadata": {},
   "outputs": [
    {
     "data": {
      "text/plain": [
       "n(_v, _a) + h(_v, _a) + O(ϵ^2)"
      ]
     },
     "execution_count": 45,
     "metadata": {},
     "output_type": "execute_result"
    }
   ],
   "source": [
    "m"
   ]
  },
  {
   "cell_type": "code",
   "execution_count": 52,
   "id": "statistical-secret",
   "metadata": {
    "scrolled": true
   },
   "outputs": [
    {
     "data": {
      "text/plain": [
       "n(^x, ^a) + - h(^x, ^a) + h(^a, Çb) h(^x, Çb) + - h(Çd, Çw) h(^a, Çd) h(^x, Çw) + h(Çt, Çw) h(Çd, Çt) h(^a, Çd) h(^x, Çw) + - h(Çb, Çm) h(Çs, Çb) h(Çu, Çs) h(^a, Çu) h(^x, Çm) + h(Çt, Çu) h(Çs, Çt) h(Çi, Çs) h(Ço, Çi) h(^a, Ço) h(^x, Çu) + - h(Çy, Çc) h(Çu, Çy) h(Çm, Çu) h(Çs, Çm) h(Çb, Çs) h(^a, Çb) h(^x, Çc) + O(ϵ^8)"
      ]
     },
     "execution_count": 52,
     "metadata": {},
     "output_type": "execute_result"
    }
   ],
   "source": [
    "a=invers_metric(m,order=7)\n",
    "a"
   ]
  },
  {
   "cell_type": "code",
   "execution_count": 47,
   "id": "uniform-apparatus",
   "metadata": {},
   "outputs": [],
   "source": [
    "#m.make_plus().get_args_tensors()"
   ]
  },
  {
   "cell_type": "markdown",
   "id": "national-circulation",
   "metadata": {},
   "source": [
    "\n",
    "n(^h, ^v)\n",
    "n(_a, Çp) n(^h, Çp) + h(_a, Çs) n(^h, Çs) + n(_a, Çi) X(^h, Çi) + O(ϵ^2) 1\n",
    " | X(_a, ^h) + h(_a, ^h) 2\n",
    "n(^a, ^p) (X(_a, ^h) + h(_a, ^h)) 3\n",
    "X(^p, ^h) + h(^p, ^h) 4\n",
    "[h(^p, ^h)] 5"
   ]
  },
  {
   "cell_type": "code",
   "execution_count": null,
   "id": "isolated-forest",
   "metadata": {},
   "outputs": [],
   "source": []
  },
  {
   "cell_type": "code",
   "execution_count": 48,
   "id": "driven-oliver",
   "metadata": {},
   "outputs": [
    {
     "data": {
      "text/plain": [
       "'h(Çb, Çc) h(^a, Çb) h(^p, Çc)'"
      ]
     },
     "execution_count": 48,
     "metadata": {},
     "output_type": "execute_result"
    }
   ],
   "source": [
    "\"el problema es q eleva al cuadrado los tensores scalares\"\n",
    "\"h(Çb, Çc) h(^a, Çb) h(^p, Çc)\""
   ]
  },
  {
   "cell_type": "code",
   "execution_count": null,
   "id": "piano-ecology",
   "metadata": {},
   "outputs": [],
   "source": []
  },
  {
   "cell_type": "code",
   "execution_count": null,
   "id": "gothic-question",
   "metadata": {},
   "outputs": [],
   "source": []
  },
  {
   "cell_type": "code",
   "execution_count": null,
   "id": "satisfied-decline",
   "metadata": {},
   "outputs": [],
   "source": []
  },
  {
   "cell_type": "code",
   "execution_count": null,
   "id": "urban-postage",
   "metadata": {},
   "outputs": [],
   "source": []
  },
  {
   "cell_type": "code",
   "execution_count": null,
   "id": "norman-freeze",
   "metadata": {},
   "outputs": [],
   "source": []
  },
  {
   "cell_type": "code",
   "execution_count": null,
   "id": "dimensional-laser",
   "metadata": {},
   "outputs": [],
   "source": []
  }
 ],
 "metadata": {
  "kernelspec": {
   "display_name": "Python 3",
   "language": "python",
   "name": "python3"
  },
  "language_info": {
   "codemirror_mode": {
    "name": "ipython",
    "version": 3
   },
   "file_extension": ".py",
   "mimetype": "text/x-python",
   "name": "python",
   "nbconvert_exporter": "python",
   "pygments_lexer": "ipython3",
   "version": "3.8.3"
  }
 },
 "nbformat": 4,
 "nbformat_minor": 5
}
